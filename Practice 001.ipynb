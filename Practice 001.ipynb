{
 "cells": [
  {
   "cell_type": "code",
   "execution_count": null,
   "id": "751026c1",
   "metadata": {},
   "outputs": [],
   "source": []
  },
  {
   "cell_type": "code",
   "execution_count": null,
   "id": "b7c321de",
   "metadata": {},
   "outputs": [],
   "source": []
  },
  {
   "cell_type": "markdown",
   "id": "d6aee80d",
   "metadata": {},
   "source": [
    "### Reading  HTML file from local disk"
   ]
  },
  {
   "cell_type": "code",
   "execution_count": null,
   "id": "099b16aa",
   "metadata": {
    "scrolled": false
   },
   "outputs": [],
   "source": [
    "from bs4 import BeautifulSoup\n",
    "\n",
    "with open(\"index.html\" , \"r\") as f:\n",
    "    doc = BeautifulSoup(f, \"html.parser\")\n",
    "    \n",
    "print(doc.prettify())\n",
    "#prettify give with proper view with indentation\n"
   ]
  },
  {
   "cell_type": "markdown",
   "id": "cd684f4b",
   "metadata": {},
   "source": [
    "### How to find things by tag names"
   ]
  },
  {
   "cell_type": "code",
   "execution_count": 11,
   "id": "9fa23c3a",
   "metadata": {},
   "outputs": [
    {
     "name": "stdout",
     "output_type": "stream",
     "text": [
      "<title>cafe</title>\n",
      "cafe\n",
      "Modified\n"
     ]
    }
   ],
   "source": [
    "from bs4 import BeautifulSoup\n",
    "\n",
    "with open(\"index.html\" , \"r\") as f:\n",
    "    doc = BeautifulSoup(f, \"html.parser\")\n",
    "    \n",
    "tag = doc.title\n",
    "print(tag)\n",
    "\n",
    "# To acess a string inside a tag \n",
    "print(tag.string)\n",
    "\n",
    "#To modify Title \n",
    "tag1 = doc.title\n",
    "tag1.string = 'Modified'\n",
    "print(tag1.string)\n",
    "\n"
   ]
  },
  {
   "cell_type": "markdown",
   "id": "27d313c9",
   "metadata": {},
   "source": [
    "#### Here are some simple ways to navigate that data structure:"
   ]
  },
  {
   "cell_type": "code",
   "execution_count": 58,
   "id": "6b65af3e",
   "metadata": {
    "scrolled": true
   },
   "outputs": [
    {
     "name": "stdout",
     "output_type": "stream",
     "text": [
      "<title>Are you a human?</title>\n",
      "title\n",
      "Are you a human?\n",
      "head\n",
      "<p style=\"margin-bottom: 10px;\">We apologize for the confusion, but we can't quite tell if you're a person or a script.</p>\n"
     ]
    }
   ],
   "source": [
    "print(doc.title)\n",
    "#<title>Are you a human?</title>\n",
    "\n",
    "print(doc.title.name)\n",
    "#title\n",
    "\n",
    "print(doc.title.string)\n",
    "#Are you a human?\n",
    "print(doc.title.parent.name)\n",
    "#head\n",
    "\n",
    "print(doc.p)\n",
    "#paragraph\n",
    "\n",
    "print(doc.a)\n",
    "#single attribut \n",
    "\n",
    "print(doc.find_all('a'))\n",
    "#all attribues\n",
    "\n",
    "# print(doc.find(id = 'id_name'))"
   ]
  },
  {
   "cell_type": "markdown",
   "id": "0d6db277",
   "metadata": {},
   "source": [
    "#### One common task is extracting all the URLs found within a page’s <a> tags:"
   ]
  },
  {
   "cell_type": "code",
   "execution_count": 60,
   "id": "c889b813",
   "metadata": {},
   "outputs": [
    {
     "name": "stdout",
     "output_type": "stream",
     "text": [
      "https://www.newegg.ca/\n",
      "#\n",
      "#\n"
     ]
    }
   ],
   "source": [
    "for link in doc.find_all('a'):\n",
    "    print(link.get('href'))"
   ]
  },
  {
   "cell_type": "markdown",
   "id": "236a12e1",
   "metadata": {},
   "source": [
    "#### Another common task is extracting all the text from a page:\n",
    "\n"
   ]
  },
  {
   "cell_type": "code",
   "execution_count": 64,
   "id": "37719ca4",
   "metadata": {},
   "outputs": [
    {
     "name": "stdout",
     "output_type": "stream",
     "text": [
      "\n",
      "\n",
      "\n",
      "\n",
      "Are you a human?\n",
      "\n",
      "\n",
      "\n",
      "\n",
      "\n",
      "\n",
      "\n",
      "\n",
      "\n",
      "\n",
      "\n",
      "\n",
      "\n",
      "\n",
      "\n",
      "\n",
      "Human?\n",
      "Are you a human?\n",
      "We apologize for the confusion, but we can't quite tell if you're a person or a script.\n",
      "Please don't take this personally. Bots and scripts can be very much lifelike these days!\n",
      "To help us better protect your account security, please check the CAPTCHA box below.\n",
      "\n",
      " detecting...\n",
      "\n",
      "If you're interested in accessing Newegg API service, please submit a request.\n",
      "We would love to hear your opinion. Let us know your feedback.\n",
      "\n",
      "\n",
      "\n",
      "\n",
      "\n",
      "\n",
      "\n"
     ]
    }
   ],
   "source": [
    "print(doc.get_text())"
   ]
  },
  {
   "cell_type": "markdown",
   "id": "5e02d54f",
   "metadata": {},
   "source": [
    "#### Also you can use find and find all methods to acess the tags"
   ]
  },
  {
   "cell_type": "code",
   "execution_count": 31,
   "id": "0bff90ce",
   "metadata": {},
   "outputs": [
    {
     "name": "stdout",
     "output_type": "stream",
     "text": [
      "<a class=\"navbar-brand text-white fw-bold ms-md-3\" href=\"#\"> <img alt=\"logo\" src=\"img/logo (1).png\"/></a>\n",
      "************************************************** \n",
      "\n",
      "[<p class=\"text-secondary text-center\">Home page</p>, <p class=\"text-secondary text-center\">Cafe Menu</p>, <p class=\"text-secondary text-center\">Cafe Locator</p>, <p class=\"text-secondary text-center\">Read Story</p>, <p class=\"text-secondary text-center\">Energy Drinks</p>, <p class=\"text-secondary text-center\">Hot Classic</p>, <p class=\"text-secondary text-center\">Chillers</p>, <p class=\"text-secondary text-center\">Delights</p>, <p class=\"text-secondary text-center\">Mugs</p>, <p class=\"text-secondary text-center\">Powders</p>, <p class=\"text-secondary text-center\">Makers</p>, <p class=\"text-secondary text-center\">Gifts</p>, <p class=\"text-secondary text-center\">Awards</p>, <p class=\"text-secondary text-center\">Business</p>, <p class=\"text-secondary text-center\">Careers</p>, <p class=\"text-secondary text-center\">Contact Us</p>]\n"
     ]
    },
    {
     "data": {
      "text/plain": [
       "<p class=\"text-secondary text-center\">Cafe Menu</p>"
      ]
     },
     "execution_count": 31,
     "metadata": {},
     "output_type": "execute_result"
    }
   ],
   "source": [
    "from bs4 import BeautifulSoup\n",
    "\n",
    "with open(\"index.html\" , \"r\") as f:\n",
    "    doc = BeautifulSoup(f, \"html.parser\")\n",
    "    \n",
    "tags = doc.find('a') # this will retutn only the first link in ur html file\n",
    "print(tags)\n",
    "\n",
    "print(\"*\"*50,\"\\n\")\n",
    "\n",
    "tagss = doc.find_all('p')\n",
    "print(tagss)\n",
    "\n",
    "# To read speicfin nth tag\n",
    "doc.find_all('p')[1]"
   ]
  },
  {
   "cell_type": "markdown",
   "id": "cd5a91d6",
   "metadata": {},
   "source": [
    "## Parsing Website HTML\n",
    "\n",
    "### Simpy reading an html through url"
   ]
  },
  {
   "cell_type": "code",
   "execution_count": 36,
   "id": "dcaa1c5b",
   "metadata": {},
   "outputs": [
    {
     "name": "stdout",
     "output_type": "stream",
     "text": [
      "<!DOCTYPE html>\n",
      "<html lang=\"en\" xmlns=\"http://www.w3.org/1999/xhtml\">\n",
      " <head>\n",
      "  <title>\n",
      "   Are you a human?\n",
      "  </title>\n",
      "  <meta content=\"IE=EDGE\" http-equiv=\"X-UA-Compatible\"/>\n",
      "  <meta charset=\"utf-8\"/>\n",
      "  <link href=\"//c1.neweggimages.com/WebResource/Themes/2005/Nest/Newegg.ico\" rel=\"shortcut icon\" type=\"image/x-icon\"/>\n",
      "  <link href=\"https://fonts.googleapis.com/css?family=Open+Sans:400,300,300italic,400italic,700,700italic|Open+Sans+Condensed:300,300italic,700\" rel=\"stylesheet\" type=\"text/css\"/>\n",
      "  <style type=\"text/css\">\n",
      "   p{font-size:16px;color:#4d4d4d;padding:0;margin:0 0 5px}a img,a:hover img,a:visited img{border:0}.button-primary,.button-primary:focus,.button-primary:link,.button-primary:visited{font-family:'Open Sans Condensed','Arial Narrow','Helvetica Narrow',arial,helvetica,sans-serif;letter-spacing:1px;font-size:14px;font-weight:700;font-stretch:condensed;text-align:center;text-decoration:none;cursor:pointer;border-radius:4px;border:2px solid #E68626;display:inline-block;padding:9px 15px;margin:15px 0 0;outline:0;color:#552F00;background-color:#FFC010;background:linear-gradient(to bottom,#FFC010,#F9A21B);text-transform:uppercase}h1,h2{padding:0}.button-primary:active,.button-primary:hover{color:#552F00;background-color:#F9A21B;background:linear-gradient(to bottom,#F9A21B,#FFC010);border-color:#E68626}h1{margin:0;font-size:100px;line-height:120px;font-weight:700;color:#33425a}h2{color:#cc4e00;font-size:29px;margin:10px 0 20px}\n",
      ".lds-ripple{display:inline-block;position:relative;width:64px;height:64px}.lds-ripple div{position:absolute;border:4px solid #cc4e00;opacity:1;border-radius:50%;animation:lds-ripple 1s cubic-bezier(0,.2,.8,1) infinite}.lds-ripple div:nth-child(2){animation-delay:-.5s}@keyframes lds-ripple{0%{top:28px;left:28px;width:0;height:0;opacity:1}100%{top:-1px;left:-1px;width:58px;height:58px;opacity:0}}\n",
      "  </style>\n",
      "  <script type=\"text/javascript\">\n",
      "   try{!function(e, t, n, r, i, o, a) {e.NAO = i,e[i] = e[i] || function() {\n",
      "(e[i].q = e[i].q || []).push(arguments)},e[i].l = 1 * new Date,o = t.createElement(n),a = t.getElementsByTagName(n)[0],o.async = 1,o.src = \"//www.newegg.com/gfplib.js\",a.parentNode.insertBefore(o, a)}(window, document, \"script\", 0, \"_na\")}catch(e){\n",
      "}\n",
      "  </script>\n",
      "  <script src=\"//c1.neweggimages.com/webResource/Scripts/WWW/jquery-3.5.1.min.js\" type=\"text/javascript\">\n",
      "  </script>\n",
      "  <script type=\"text/javascript\">\n",
      "   var win = jQuery(this);\n",
      "if (win.width() < 900) {\n",
      "    window.resizeTo(900, win.height());\n",
      "}\n",
      "var why = '0';\n",
      "function getReferer() {\n",
      "    var reg = new RegExp(\"(^|&)referer=([^&]*)(&|$)\");\n",
      "    var r = window.location.search.replace(\"referer=/areyouahuman?\",\"\").substr(1).match(reg);\n",
      "    var referer = window.location.origin;\n",
      "    if (r) {\n",
      "        referer = unescape(r[2]);\n",
      "    }\n",
      "    if (referer.indexOf('?') > 0) {\n",
      "        referer += '&';\n",
      "    } else {\n",
      "        referer += '?';\n",
      "    }\n",
      "    referer += 'recaptcha=pass';\n",
      "\n",
      "    return referer;\n",
      "}\n",
      "\n",
      "var postEventData = function (refer) {\n",
      "    var items = location.hostname.split('.');\n",
      "    items.shift();\n",
      "    var topDomain = items.join('.');\n",
      "    var reg = /^https?\\:\\/\\/\\w+\\.([^\\/\\s]+)/;\n",
      "    var match = refer.match(reg);\n",
      "    if(match){\n",
      "        var d=match[1].split(\".\");\n",
      "        var dd=d[d.length-2]+\".\"+d[d.length-1];\n",
      "        if(dd !== topDomain) {\n",
      "            refer = location.origin;\n",
      "        }\n",
      "    }\n",
      "    else {\n",
      "        refer = location.origin+'/'+refer.replace(/^\\//,'');\n",
      "    }\n",
      "    jQuery.ajax({\n",
      "        type: \"POST\",\n",
      "        url: \"https://pf.newegg.com/r3\",\n",
      "        data: JSON.stringify({c: document.cookie }),\n",
      "        dataType: \"json\",\n",
      "        contentType: \"application/json\",\n",
      "        timeout:2000,\n",
      "        success: function () {\n",
      "            window.location.href = refer;\n",
      "        }\n",
      "    }).fail(function () {\n",
      "        window.location.href = refer;\n",
      "    });\n",
      "};\n",
      "function getretry(){\n",
      "    var de='1008';\n",
      "    var pec=1000;\n",
      "    window.location.href = window.location.origin + '/areyouahuman3?' + 'itn=true&' + (location.search || '?').substring(1);\n",
      "}\n",
      "setTimeout(function(){\n",
      "    getretry();\n",
      "}, 11500);\n",
      "(function (i, s, o, g, r, a, m) {\n",
      "    i['GoogleAnalyticsObject'] = r; i[r] = i[r] || function () {\n",
      "        (i[r].q = i[r].q || []).push(arguments)\n",
      "    }, i[r].l = 1 * new Date(); a = s.createElement(o),\n",
      "    m = s.getElementsByTagName(o)[0]; a.async = 1; a.src = g; m.parentNode.insertBefore(a, m)\n",
      "})(window, document, 'script', 'https://www.google-analytics.com/analytics.js', 'ga');\n",
      "ga('create', 'UA-1147542-13', 'auto');\n",
      "ga('send', 'pageview');\n",
      "  </script>\n",
      " </head>\n",
      " <body style=\"font-family: 'Open Sans', Helvetica, Arial, sans-serif; line-height: 1.36;\">\n",
      "  <div style=\"max-width: 1000px;min-width: 760px;overflow: hidden;margin:100px auto;\">\n",
      "   <div style=\"float: left;padding: 50px 10px 40px 10px; width: 250px; box-sizing: border-box;\">\n",
      "    <a href=\"https://www.newegg.ca/\" style=\"border: none;\">\n",
      "     <img alt=\"\" src=\"//c1.neweggimages.com/WebResource/Themes/2005/Nest/logo_424x210.png\" width=\"216\"/>\n",
      "    </a>\n",
      "   </div>\n",
      "   <div style=\"border-left: 1px solid #ccc; padding: 30px 10px 70px 40px; margin-left: 250px;\">\n",
      "    <h1>\n",
      "     Human?\n",
      "    </h1>\n",
      "    <h2>\n",
      "     Are you a human?\n",
      "    </h2>\n",
      "    <p style=\"margin-bottom: 10px;\">\n",
      "     We apologize for the confusion, but we can't quite tell if you're a person or a script.\n",
      "    </p>\n",
      "    <p style=\"margin-bottom: 10px;\">\n",
      "     Please don't take this personally. Bots and scripts can be very much lifelike these days!\n",
      "    </p>\n",
      "    <p style=\"margin-bottom: 40px;\">\n",
      "     To help us better protect your account security, please check the CAPTCHA box below.\n",
      "    </p>\n",
      "    <div class=\"lds-ripple\">\n",
      "     <div>\n",
      "     </div>\n",
      "     <div>\n",
      "     </div>\n",
      "    </div>\n",
      "    <p aria-labelledby=\"detect\" role=\"group\">\n",
      "     <label>\n",
      "      <input name=\"check\" type=\"checkbox\"/>\n",
      "      detecting...\n",
      "     </label>\n",
      "    </p>\n",
      "    <script>\n",
      "     var cookiesEnable=\"cookie\" in document&&(document.cookie.length>0||(document.cookie=\"test\").indexOf.call(document.cookie,\"test\")>-1);cookiesEnable||document.write('<p id=\"cookie\" style=\"margin-top: 40px;\">We use cookies to provide functionalities and bring better user experience to you. Please allow cookies for Newegg site.</p>');\n",
      "    </script>\n",
      "    <p style=\"margin-top: 40px;\">\n",
      "     If you're interested in accessing Newegg API service, please\n",
      "     <a href=\"#\" onclick=\"javascript:newegg_inhouse_feedback2 &amp;&amp; newegg_inhouse_feedback2.show();\" style=\"cursor: pointer;text-decoration: underline; color: #000;\" title=\"Request Access to Newegg API\">\n",
      "      submit a request\n",
      "     </a>\n",
      "     .\n",
      "    </p>\n",
      "    <p style=\"margin-top: 40px;\">\n",
      "     We would love to hear your opinion.\n",
      "     <a href=\"#\" id=\"newegg_footer_feedback\" onclick=\"javascript:newegg_inhouse_feedback &amp;&amp; newegg_inhouse_feedback.show();\" style=\"cursor: pointer;text-decoration: underline; color: #000;\" title=\"feedback\">\n",
      "      Let us know your feedback\n",
      "     </a>\n",
      "     .\n",
      "    </p>\n",
      "   </div>\n",
      "   <script type=\"text/javascript\">\n",
      "    var newegg_inhouse_feedback=null,newegg_inhouse_feedback2=null;!function(){var e=document.location.protocol;if(\"http:\"==e||\"https:\"==e){var n=document.createElement(\"script\");n.type=\"text/javascript\",n.async=!0,n.src=\"//promotions.newegg.com/Newegg/Survey/newegg-feedback.min.js\";var g=document.getElementsByTagName(\"head\")[0].childNodes[0];g.parentNode.insertBefore(n,g),n.onload=function(){null==newegg_inhouse_feedback&&(newegg_inhouse_feedback=new neweggFeedback.NeweggSurvey({cardType:\"Id\",key:\"027BC6DB\"})),null==newegg_inhouse_feedback2&&(newegg_inhouse_feedback2=new neweggFeedback.NeweggSurvey({cardType:\"Id\",key:\"D762FCF1\"}))}}}();\n",
      "\tvar Web={StateManager:{Cookies:{get:function(e){for(var t=document.cookie.split(\";\"),n=0;n<t.length;n++){var o=t[n].split(\"=\");if(e==decodeURIComponent(o[0].trim()))return unescape(o[1])}return null},Name:{UTMA:\"__utma\",NVTC:\"NVTC\",NID:\"NV_NID\",SPT:\"NV_SPT\"}}}};\n",
      "   </script>\n",
      "  </div>\n",
      "  <script>\n",
      "   var nemdpec=1000;\n",
      "var nemdtoken='0f669c1da88916ea';\n",
      "var randomct = Math.random()*1000;\n",
      "    if (randomct > nemdpec) {\n",
      "(function (s, o, g, r, a, m) {a=s.createElement(o),m=s.getElementsByTagName(o)[0];a.async=1;\n",
      "    a.addEventListener('load', function() {\n",
      "grecaptcha.ready(function() {\n",
      "    grecaptcha.execute('6LdAn3UUAAAAAKt8pKdAdZf83OwfA2QhtacSvywE', {action: 'recaptcha'})\n",
      "    .then(function(token) {\n",
      "        jQuery.post(window.location.href, { t: token,t2:'s1', cookieEnabled: !!navigator.cookieEnabled, why: why }, function (data, status) {\n",
      "            if (data === 'success') {\n",
      "                var refer = getReferer();\n",
      "                postEventData(refer);\n",
      "                var noprotocl = refer.replace(\"http://\", \"\").replace(\"https://\", \"\");\n",
      "                var questionMarkLocation = noprotocl.indexOf(\"?\");\n",
      "                var label = questionMarkLocation > 0 ? noprotocl.slice(0, questionMarkLocation) : noprotocl;\n",
      "                ga('send', 'event', 'Captcha', 'Click', label);\n",
      "                \n",
      "            } else {\n",
      "                getretry();\n",
      "            }\n",
      "        });\n",
      "    });\n",
      "});\n",
      "});\n",
      "a.src=g;m.parentNode.insertBefore(a,m);\n",
      "})(window, document, 'script', 'https://www.google.com/recaptcha/api.js?render=6LdAn3UUAAAAAKt8pKdAdZf83OwfA2QhtacSvywE');\n",
      "    }\n",
      "    else{\n",
      "(function(e,t,l){function f(t,l){let n=0;for(let e=0;e<t.length;e++){n+=Math.pow(t[e]-l[e],2)}return Math.sqrt(n)}function n(t){let l=0;for(let e=0;e<t.length;e++){l+=t[e]}return l}function u(t){if(t.length>0){let e=n(t);return e/t.length}else{return 0}}function o(l,n){if(n.length>0){let t=0;for(let e=0;e<n.length;e++){t+=Math.pow(l-n[e],2)}return Math.sqrt(t/n.length)}return 0}var d={};d.t=new Array(3);d.l=new Array(2);d.i=250;d.u=300;d.o=1e3;d.h=t*1e3;d.M=\"_usereventdatas\";d.S=.8;d.v=.09;d.g=.05;d.debug=false;d.A=function(e,t,l,n){return Math.sqrt(Math.pow(e-l,2)+Math.pow(t-n,2))};d.J=function(e,t){return e/t};d.N=function(e,t,l){return Math.abs(t-e)/l};d.O=function(e,t,l,n){return Math.atan2(n-t,l-e)*180/Math.PI};d.m=function(e,t,l){return Math.abs(t-e)/l};d.p=function(e){if(e>=0&&e<45){return 0}else if(e>=45&&e<90){return 1}else if(e>=90&&e<135){return 2}else if(e>=135&&e<180){return 3}else if(e>=180||e<-135){return 4}else if(e>=-135&&e<-90){return 5}else if(e>=-90&&e<-45){return 6}else{return 7}};d.I=function(u){let o=u.timeStamp;let a=u.pageX;let s=u.pageY;if(d.t[0]!==undefined){let e=o-d.t[0][2];if(e>d.i){d.t[0]=[u.pageX,u.pageY,o,0,0];return}let t=d.A(a,s,d.t[0][0],d.t[0][1]);if(e<=0||t<=0){return}let l=d.J(t,e);let n=d.N(d.t[0][3],l,e);let r=d.O(d.t[0][0],d.t[0][1],a,s);let f=d.p(r);let i=d.m(d.t[0][4],r,e);if(d.l[0]!==undefined){d.l[0].push([t,l,n,i,f])}else{d.l[0]=[[t,l,n,i,f]]}d.t[0]=[u.pageX,u.pageY,o,l,r]}else{d.t[0]=[u.pageX,u.pageY,o,0,0]}};d.T=function(e){d.t[1]=e.timeStamp;if(d.t[2]!==undefined){let e=d.t[1]-d.t[2];if(e<=d.u&&e>0){if(d.l[1]!==undefined){d.l[1].push(e)}else{d.l[1]=[e]}}}};d._=function(e){d.t[2]=e.timeStamp};d.j=function(){let t=0;let l=0;let n=0;let r=0;let f=0;let i=0;let u=0;let o=0;let a=[0,0,0,0,0,0,0,0];let s=0;let c=0;if(d.l[0]!==undefined){let e=d.l[0].length;if(e>0){for(var h=0;h<e;h++){t+=d.l[0][h][0];l+=d.l[0][h][1];n+=d.l[0][h][2];r+=d.l[0][h][3];a[d.l[0][h][4]]+=1}t=t/e;l=l/e;n=n/e;r=r/e;for(var h=0;h<e;h++){f+=Math.pow(t-d.l[0][h][0],2);i+=Math.pow(l-d.l[0][h][1],2);u+=Math.pow(n-d.l[0][h][2],2);o+=Math.pow(r-d.l[0][h][3],2)}f=Math.sqrt(f/e);i=Math.sqrt(i/e);u=Math.sqrt(u/e);o=Math.sqrt(o/e);for(var h=0;h<a.length;h++){a[h]=a[h]/e}}}if(d.l[1]!==undefined){let e=d.l[1].length;if(e>0){for(var h=0;h<e;h++){s+=d.l[1][h]}s=s/e;for(var h=0;h<e;h++){c+=Math.pow(s-d.l[1][h],2)}c=Math.sqrt(c/e)}}let e=[t,l,n,r,f,i,u,o,s,c];let M=e.concat(a);return M};d.clear=function(){d.t=new Array(3);d.l=new Array(2)};d.k=function(e,t){localStorage.removeItem(d.M);e.onmousedown=d._;e.onmouseup=d.T;e.onmousemove=d.I;let l=setInterval(function(){let e=d.getData();d.q(e)},d.o);setTimeout(function(){clearInterval(l);let e=d.detect();t(e)},d.h)};d.getData=function(){let e=d.j();d.clear();return e};d.B=function(l,n){let r=[0,0,0,0,0,0,0,0,0,0,0,0,0];for(let t=0;t<n.length;t++){let e=f(n[t],l);if(e<=1){r[0]+=1}else if(e>1&&e<=2){r[1]+=1}else if(e>2&&e<=4){r[2]+=1}else if(e>4&&e<=8){r[3]+=1}else if(e>8&&e<=50){r[4]+=1}else if(e>50&&e<=100){r[5]+=1}else if(e>100&&e<=200){r[6]+=1}else if(e>200&&e<=300){r[7]+=1}else if(e>300&&e<=400){r[8]+=1}else if(e>400&&e<=500){r[9]+=1}else if(e>500&&e<=600){r[10]+=1}else if(e>600&&e<=800){r[11]+=1}else{r[12]+=1}}for(let e=0;e<r.length;e++){r[e]=r[e]/n.length}return r};d.q=function(t){if(t!==undefined&&t!=null){if(localStorage[d.M]===undefined||localStorage[d.M]==null){localStorage[d.M]=JSON.stringify([t])}else{let e=JSON.parse(localStorage[d.M]);if(Array.isArray(e)){e.push(t);localStorage[d.M]=JSON.stringify(e)}}}};d.detect=function(){let r=false;let f=JSON.parse(localStorage[d.M]);let i=[0,0,0,0,0,0,0,0,0,0,0,0,0];if(Array.isArray(f)&&f.length>1){let n=0;for(let l=0;l<f.length;l++){for(let e=l+1;e<f.length;e++){let t=d.B(f[l],f);for(let e=0;e<i.length;e++){i[e]+=t[e]}n+=1}}for(let e=0;e<i.length;e++){i[e]=i[e]/n}let e=i[0]+i[1];let t=i[10]+i[11]+i[12];if(e>=d.S||t>=d.g){r=true}else if(e<.5){let e=i.slice(2,10);let t=u(e);let l=o(t,e);if(l<=d.v){r=true}}}return r};d.k(e,l)})(document.querySelector(\"body\"),5,function(e) {\n",
      "    if (!e) {\n",
      "    var timestamp = Math.floor(Date.now() / 1000);\n",
      "    jQuery.post(window.location.href, { t: timestamp+nemdtoken, t2:'md', cookieEnabled: !!navigator.cookieEnabled, why: why }, function (data, status) {\n",
      "        if (data === 'success') {\n",
      "            var refer = getReferer();\n",
      "            postEventData(refer);\n",
      "            var noprotocl = refer.replace(\"http://\", \"\").replace(\"https://\", \"\");\n",
      "            var questionMarkLocation = noprotocl.indexOf(\"?\");\n",
      "            var label = questionMarkLocation > 0 ? noprotocl.slice(0, questionMarkLocation) : noprotocl;\n",
      "            ga('send', 'event', 'Captcha', 'Click', label);\n",
      "            \n",
      "        } else {\n",
      "            getretry();\n",
      "        }\n",
      "    });\n",
      "    } else {\n",
      "    getretry();\n",
      "    }\n",
      "});\n",
      "}\n",
      "  </script>\n",
      " </body>\n",
      "</html>\n",
      "\n"
     ]
    }
   ],
   "source": [
    "from bs4 import BeautifulSoup\n",
    "import requests\n",
    "\n",
    "url = \"https://www.newegg.ca/gigabyte-geforce-rtx-3080-ti-gv-n308tgaming-oc-12gd/p/N82E16814932436?Description=3080&cm_re=3080-_-14-932-436-_-Product\"\n",
    "\n",
    "result = requests.get(url)\n",
    "\n",
    "# print(result.text) \n",
    "\n",
    "doc = BeautifulSoup(result.text,\"html.parser\")\n",
    "print(doc.prettify())"
   ]
  },
  {
   "cell_type": "markdown",
   "id": "d74be298",
   "metadata": {},
   "source": [
    "#### Locating the text (Fnding the Price)"
   ]
  },
  {
   "cell_type": "code",
   "execution_count": 1,
   "id": "f331b724",
   "metadata": {},
   "outputs": [
    {
     "ename": "IndexError",
     "evalue": "list index out of range",
     "output_type": "error",
     "traceback": [
      "\u001b[1;31m---------------------------------------------------------------------------\u001b[0m",
      "\u001b[1;31mIndexError\u001b[0m                                Traceback (most recent call last)",
      "Cell \u001b[1;32mIn[1], line 11\u001b[0m\n\u001b[0;32m      7\u001b[0m doc \u001b[38;5;241m=\u001b[39m BeautifulSoup(result\u001b[38;5;241m.\u001b[39mtext,\u001b[38;5;124m\"\u001b[39m\u001b[38;5;124mhtml.parser\u001b[39m\u001b[38;5;124m\"\u001b[39m)\n\u001b[0;32m      9\u001b[0m prices \u001b[38;5;241m=\u001b[39m doc\u001b[38;5;241m.\u001b[39mfind_all(text \u001b[38;5;241m=\u001b[39m \u001b[38;5;124m'\u001b[39m\u001b[38;5;124m$\u001b[39m\u001b[38;5;124m'\u001b[39m)\n\u001b[1;32m---> 11\u001b[0m parent \u001b[38;5;241m=\u001b[39m \u001b[43mprices\u001b[49m\u001b[43m[\u001b[49m\u001b[38;5;241;43m0\u001b[39;49m\u001b[43m]\u001b[49m\u001b[38;5;241m.\u001b[39mparent\n\u001b[0;32m     12\u001b[0m strong \u001b[38;5;241m=\u001b[39m parent\u001b[38;5;241m.\u001b[39mfind(\u001b[38;5;124m\"\u001b[39m\u001b[38;5;124mstrong\u001b[39m\u001b[38;5;124m\"\u001b[39m)\n\u001b[0;32m     13\u001b[0m \u001b[38;5;28mprint\u001b[39m(strong\u001b[38;5;241m.\u001b[39mstring)\n",
      "\u001b[1;31mIndexError\u001b[0m: list index out of range"
     ]
    }
   ],
   "source": [
    "from bs4 import BeautifulSoup\n",
    "import requests\n",
    "\n",
    "url = \"https://www.newegg.ca/p/3D5-000H-007T4?Item=9SIAJWPJSJ7092&cm_sp=Homepage_SS-_-P1_9SIAJWPJSJ7092-_-04212023\"\n",
    "result = requests.get(url)\n",
    "\n",
    "doc = BeautifulSoup(result.text,\"html.parser\")\n",
    "\n",
    "prices = doc.find_all(text = '$')\n",
    "\n",
    "parent = prices[0].parent\n",
    "strong = parent.find(\"strong\")\n",
    "print(strong.string)"
   ]
  },
  {
   "cell_type": "code",
   "execution_count": 47,
   "id": "8516c559",
   "metadata": {},
   "outputs": [
    {
     "name": "stdout",
     "output_type": "stream",
     "text": [
      "<!DOCTYPE html>\n",
      "<html>\n",
      " <head>\n",
      "  <meta charset=\"utf-8\"/>\n",
      "  <link href=\"/favicon.png\" rel=\"icon\" type=\"image/png\"/>\n",
      "  <meta content=\"width=device-width, initial-scale=1\" name=\"viewport\"/>\n",
      "  <script async=\"\" src=\"https://www.googletagmanager.com/gtag/js?id=G-BLV8VETPEP\">\n",
      "  </script>\n",
      "  <script>\n",
      "   window.dataLayer = window.dataLayer || [];\n",
      "  function gtag(){dataLayer.push(arguments);}\n",
      "  gtag('js', new Date());\n",
      "\n",
      "  gtag('config', 'G-BLV8VETPEP');\n",
      "  </script>\n",
      "  <title>\n",
      "   12ft |\n",
      "  </title>\n",
      "  <meta content=\"6\" name=\"next-head-count\"/>\n",
      "  <link as=\"style\" href=\"/_next/static/css/b479a8fc987e40beb12c.css\" rel=\"preload\"/>\n",
      "  <link data-n-g=\"\" href=\"/_next/static/css/b479a8fc987e40beb12c.css\" rel=\"stylesheet\"/>\n",
      "  <noscript data-n-css=\"\">\n",
      "  </noscript>\n",
      " </head>\n",
      " <body>\n",
      "  <div id=\"__next\">\n",
      "   <iframe class=\"w-full h-full\" frameborder=\"0\" id=\"proxy\" src=\"\">\n",
      "   </iframe>\n",
      "   <div class=\"fixed inset-0 flex items-center justify-center\" id=\"loading\">\n",
      "    <div class=\"bg-white rounded-lg p-4 px-6 border flex flex-col items-center\">\n",
      "     <svg class=\"w-16 h-16\" fill=\"none\" viewbox=\"0 0 110 79\" xmlns=\"http://www.w3.org/2000/svg\">\n",
      "      <path d=\"M17.6535 73.5H17.9574L18.0974 73.2302L55.4438 1.23022L55.8226 0.5H55H39.7732H39.4709L39.3305 0.767712L1.55723 72.7677L1.17305 73.5H2H17.6535Z\" fill=\"#1A1A1A\" stroke=\"white\">\n",
      "      </path>\n",
      "      <path d=\"M40.6535 73.5H40.9574L41.0974 73.2302L78.4438 1.23022L78.8226 0.5H78H62.7732H62.4709L62.3305 0.767712L24.5572 72.7677L24.1731 73.5H25H40.6535Z\" fill=\"#5E5E5E\" stroke=\"white\">\n",
      "      </path>\n",
      "      <mask fill=\"black\" height=\"59\" id=\"path-3-outside-1\" maskunits=\"userSpaceOnUse\" width=\"73\" x=\"40\" y=\"19\">\n",
      "       <rect fill=\"white\" height=\"59\" width=\"73\" x=\"40\" y=\"19\">\n",
      "       </rect>\n",
      "       <path clip-rule=\"evenodd\" d=\"M45.0199 73.2139H79.5611V64.3745H60.0807L66.4722 56.9972C69.8719 53.5975 72.331 50.8891 73.8496 48.8719C75.3908 46.8321 76.524 44.8942 77.2493 43.0584C77.9746 41.1999 78.3372 39.296 78.3372 37.3469C78.3372 32.7232 76.8867 29.1762 73.9856 26.7057C71.1071 24.2352 66.9935 23 61.6446 23C58.3129 23 55.2984 23.7253 52.6013 25.1758C49.9042 26.6264 47.7964 28.6435 46.2778 31.2273C44.7593 33.7885 44 36.5876 44 39.6247H55.4911C55.4911 37.4035 56.035 35.5563 57.123 34.0831C58.2109 32.5873 59.6274 31.8393 61.3726 31.8393C63.1405 31.8393 64.489 32.3946 65.4183 33.5052C66.3475 34.6158 66.8122 36.2363 66.8122 38.3668C66.8122 40.9959 64.8517 44.5429 60.9306 49.0079L45.0199 65.7345V73.2139ZM81.6898 73.0994V53.2499H78.0165V48.413H81.6898V46.314C81.6898 43.5456 82.4807 41.401 84.0626 39.88C85.6597 38.3437 87.888 37.5756 90.7478 37.5756C91.6604 37.5756 92.7783 37.7277 94.1014 38.0319L94.0328 43.1426C93.4857 43.0057 92.8162 42.9373 92.0254 42.9373C89.5459 42.9373 88.3062 44.1009 88.3062 46.428V48.413H93.2118V53.2499H88.3062V73.0994H81.6898ZM104.528 41.526V48.4763H108.749V53.3132H104.528V64.7522C104.528 65.6649 104.703 66.3189 105.053 66.7144C105.403 67.1098 106.072 67.3076 107.061 67.3076C107.791 67.3076 108.437 67.2543 109 67.1479V72.1445C107.707 72.54 106.376 72.7377 105.008 72.7377C100.383 72.7377 98.0258 70.4029 97.9347 65.7333V53.3132H94.3297V48.4763H97.9347V41.526H104.528Z\" fill-rule=\"evenodd\">\n",
      "       </path>\n",
      "      </mask>\n",
      "      <path clip-rule=\"evenodd\" d=\"M45.0199 73.2139H79.5611V64.3745H60.0807L66.4722 56.9972C69.8719 53.5975 72.331 50.8891 73.8496 48.8719C75.3908 46.8321 76.524 44.8942 77.2493 43.0584C77.9746 41.1999 78.3372 39.296 78.3372 37.3469C78.3372 32.7232 76.8867 29.1762 73.9856 26.7057C71.1071 24.2352 66.9935 23 61.6446 23C58.3129 23 55.2984 23.7253 52.6013 25.1758C49.9042 26.6264 47.7964 28.6435 46.2778 31.2273C44.7593 33.7885 44 36.5876 44 39.6247H55.4911C55.4911 37.4035 56.035 35.5563 57.123 34.0831C58.2109 32.5873 59.6274 31.8393 61.3726 31.8393C63.1405 31.8393 64.489 32.3946 65.4183 33.5052C66.3475 34.6158 66.8122 36.2363 66.8122 38.3668C66.8122 40.9959 64.8517 44.5429 60.9306 49.0079L45.0199 65.7345V73.2139ZM81.6898 73.0994V53.2499H78.0165V48.413H81.6898V46.314C81.6898 43.5456 82.4807 41.401 84.0626 39.88C85.6597 38.3437 87.888 37.5756 90.7478 37.5756C91.6604 37.5756 92.7783 37.7277 94.1014 38.0319L94.0328 43.1426C93.4857 43.0057 92.8162 42.9373 92.0254 42.9373C89.5459 42.9373 88.3062 44.1009 88.3062 46.428V48.413H93.2118V53.2499H88.3062V73.0994H81.6898ZM104.528 41.526V48.4763H108.749V53.3132H104.528V64.7522C104.528 65.6649 104.703 66.3189 105.053 66.7144C105.403 67.1098 106.072 67.3076 107.061 67.3076C107.791 67.3076 108.437 67.2543 109 67.1479V72.1445C107.707 72.54 106.376 72.7377 105.008 72.7377C100.383 72.7377 98.0258 70.4029 97.9347 65.7333V53.3132H94.3297V48.4763H97.9347V41.526H104.528Z\" fill=\"#1A1A1A\" fill-rule=\"evenodd\">\n",
      "      </path>\n",
      "      <path d=\"M79.5611 73.2139V77.2139H83.5611V73.2139H79.5611ZM45.0199 73.2139H41.0199V77.2139H45.0199V73.2139ZM79.5611 64.3745H83.5611V60.3745H79.5611V64.3745ZM60.0807 64.3745L57.0575 61.7554L51.3228 68.3745H60.0807V64.3745ZM66.4722 56.9972L63.6437 54.1687L63.5426 54.2699L63.449 54.378L66.4722 56.9972ZM73.8496 48.8719L70.6581 46.4605L70.6539 46.4661L73.8496 48.8719ZM77.2493 43.0584L80.9694 44.5281L80.9725 44.5204L80.9756 44.5126L77.2493 43.0584ZM73.9856 26.7057L71.3805 29.7411L71.3863 29.7461L71.3922 29.7511L73.9856 26.7057ZM52.6013 25.1758L54.4959 28.6987L54.496 28.6986L52.6013 25.1758ZM46.2778 31.2273L49.7185 33.2674L49.7224 33.2607L49.7263 33.2541L46.2778 31.2273ZM44 39.6247H40V43.6247H44V39.6247ZM55.4911 39.6247V43.6247H59.4911V39.6247H55.4911ZM57.123 34.0831L60.3406 36.4594L60.3493 36.4476L60.3579 36.4358L57.123 34.0831ZM65.4183 33.5052L68.4861 30.9384L68.486 30.9382L65.4183 33.5052ZM60.9306 49.0079L63.8288 51.7647L63.8836 51.7071L63.9361 51.6473L60.9306 49.0079ZM45.0199 65.7345L42.1217 62.9776L41.0199 64.1359V65.7345H45.0199ZM81.6898 53.2499H85.6898V49.2499H81.6898V53.2499ZM81.6898 73.0994H77.6898V77.0994H81.6898V73.0994ZM78.0165 53.2499H74.0165V57.2499H78.0165V53.2499ZM78.0165 48.413V44.413H74.0165V48.413H78.0165ZM81.6898 48.413V52.413H85.6898V48.413H81.6898ZM84.0626 39.88L86.835 42.7633L86.8356 42.7628L84.0626 39.88ZM94.1014 38.0319L98.1011 38.0856L98.1444 34.8571L94.9977 34.1336L94.1014 38.0319ZM94.0328 43.1426L93.0617 47.0229L97.9646 48.25L98.0324 43.1963L94.0328 43.1426ZM88.3062 48.413H84.3062V52.413H88.3062V48.413ZM93.2118 48.413H97.2118V44.413H93.2118V48.413ZM93.2118 53.2499V57.2499H97.2118V53.2499H93.2118ZM88.3062 53.2499V49.2499H84.3062V53.2499H88.3062ZM88.3062 73.0994V77.0994H92.3062V73.0994H88.3062ZM104.528 48.4763H100.528V52.4763H104.528V48.4763ZM104.528 41.526H108.528V37.526H104.528V41.526ZM108.749 48.4763H112.749V44.4763H108.749V48.4763ZM108.749 53.3132V57.3132H112.749V53.3132H108.749ZM104.528 53.3132V49.3132H100.528V53.3132H104.528ZM105.053 66.7144L108.05 64.0652L108.048 64.0627L105.053 66.7144ZM109 67.1479H113V62.3198L108.256 63.2177L109 67.1479ZM109 72.1445L110.17 75.9696L113 75.104V72.1445H109ZM97.9347 65.7333H93.9347V65.7723L93.9355 65.8113L97.9347 65.7333ZM97.9347 53.3132H101.935V49.3132H97.9347V53.3132ZM94.3297 53.3132H90.3297V57.3132H94.3297V53.3132ZM94.3297 48.4763V44.4763H90.3297V48.4763H94.3297ZM97.9347 48.4763V52.4763H101.935V48.4763H97.9347ZM97.9347 41.526V37.526H93.9347V41.526H97.9347ZM79.5611 69.2139H45.0199V77.2139H79.5611V69.2139ZM75.5611 64.3745V73.2139H83.5611V64.3745H75.5611ZM60.0807 68.3745H79.5611V60.3745H60.0807V68.3745ZM63.449 54.378L57.0575 61.7554L63.1039 66.9937L69.4954 59.6163L63.449 54.378ZM70.6539 46.4661C69.307 48.2552 67.0067 50.8057 63.6437 54.1687L69.3006 59.8256C72.737 56.3892 75.3549 53.5229 77.0452 51.2776L70.6539 46.4661ZM73.5291 41.5886C72.969 43.0061 72.0417 44.6292 70.6581 46.4605L77.041 51.2832C78.7398 49.0349 80.0789 46.7822 80.9694 44.5281L73.5291 41.5886ZM74.3372 37.3469C74.3372 38.7867 74.0717 40.1981 73.523 41.6041L80.9756 44.5126C81.8774 42.2016 82.3372 39.8052 82.3372 37.3469H74.3372ZM71.3922 29.7511C73.2114 31.3003 74.3372 33.6214 74.3372 37.3469H82.3372C82.3372 31.8249 80.5619 27.052 76.5789 23.6603L71.3922 29.7511ZM61.6446 27C66.4257 27 69.4755 28.1061 71.3805 29.7411L76.5907 23.6703C72.7386 20.3643 67.5612 19 61.6446 19V27ZM54.496 28.6986C56.5603 27.5884 58.9146 27 61.6446 27V19C57.7112 19 54.0364 19.8622 50.7066 21.653L54.496 28.6986ZM49.7263 33.2541C50.8652 31.3162 52.4292 29.8102 54.4959 28.6987L50.7067 21.653C47.3792 23.4426 44.7275 25.9708 42.8293 29.2006L49.7263 33.2541ZM48 39.6247C48 37.2903 48.5737 35.1981 49.7185 33.2674L42.8371 29.1873C40.9448 32.3788 40 35.8848 40 39.6247H48ZM55.4911 35.6247H44V43.6247H55.4911V35.6247ZM53.9053 31.7067C52.2086 34.0042 51.4911 36.7345 51.4911 39.6247H59.4911C59.4911 38.0724 59.8613 37.1083 60.3406 36.4594L53.9053 31.7067ZM61.3726 27.8393C58.2603 27.8393 55.6758 29.2723 53.8881 31.7303L60.3579 36.4358C60.746 35.9022 60.9945 35.8393 61.3726 35.8393V27.8393ZM68.486 30.9382C66.6301 28.7203 64.0381 27.8393 61.3726 27.8393V35.8393C61.8421 35.8393 62.0865 35.9131 62.1869 35.9544C62.2666 35.9873 62.3046 36.0172 62.3505 36.0721L68.486 30.9382ZM70.8122 38.3668C70.8122 35.727 70.245 33.0407 68.4861 30.9384L62.3504 36.0719C62.4499 36.1908 62.8122 36.7455 62.8122 38.3668H70.8122ZM63.9361 51.6473C66.0073 49.2888 67.675 47.0463 68.8426 44.9338C69.9885 42.8607 70.8122 40.6282 70.8122 38.3668H62.8122C62.8122 38.7344 62.6556 39.59 61.8409 41.0638C61.048 42.4984 59.7749 44.2619 57.925 46.3684L63.9361 51.6473ZM47.9181 68.4913L63.8288 51.7647L58.0323 46.251L42.1217 62.9776L47.9181 68.4913ZM49.0199 73.2139V65.7345H41.0199V73.2139H49.0199ZM77.6898 53.2499V73.0994H85.6898V53.2499H77.6898ZM78.0165 57.2499H81.6898V49.2499H78.0165V57.2499ZM74.0165 48.413V53.2499H82.0165V48.413H74.0165ZM81.6898 44.413H78.0165V52.413H81.6898V44.413ZM77.6898 46.314V48.413H85.6898V46.314H77.6898ZM81.2902 36.9966C78.7304 39.4579 77.6898 42.759 77.6898 46.314H85.6898C85.6898 44.3322 86.231 43.3441 86.835 42.7633L81.2902 36.9966ZM90.7478 33.5756C87.166 33.5756 83.83 34.5536 81.2896 36.9972L86.8356 42.7628C87.4895 42.1338 88.61 41.5756 90.7478 41.5756V33.5756ZM94.9977 34.1336C93.5083 33.7912 92.0697 33.5756 90.7478 33.5756V41.5756C91.2511 41.5756 92.0483 41.6642 93.2051 41.9302L94.9977 34.1336ZM98.0324 43.1963L98.1011 38.0856L90.1018 37.9782L90.0332 43.0889L98.0324 43.1963ZM92.0254 46.9373C92.6093 46.9373 92.931 46.9902 93.0617 47.0229L95.0039 39.2623C94.0404 39.0212 93.023 38.9373 92.0254 38.9373V46.9373ZM92.3062 46.428C92.3062 46.1904 92.3391 46.1518 92.308 46.2395C92.2912 46.2868 92.2582 46.3634 92.1994 46.4553C92.1398 46.5485 92.0638 46.6417 91.9734 46.7265C91.7834 46.9048 91.6192 46.9646 91.5926 46.973C91.5822 46.9762 91.7058 46.9373 92.0254 46.9373V38.9373C90.2299 38.9373 88.139 39.3536 86.4985 40.8934C84.8103 42.4779 84.3062 44.5807 84.3062 46.428H92.3062ZM92.3062 48.413V46.428H84.3062V48.413H92.3062ZM93.2118 44.413H88.3062V52.413H93.2118V44.413ZM97.2118 53.2499V48.413H89.2118V53.2499H97.2118ZM88.3062 57.2499H93.2118V49.2499H88.3062V57.2499ZM92.3062 73.0994V53.2499H84.3062V73.0994H92.3062ZM81.6898 77.0994H88.3062V69.0994H81.6898V77.0994ZM108.528 48.4763V41.526H100.528V48.4763H108.528ZM108.749 44.4763H104.528V52.4763H108.749V44.4763ZM112.749 53.3132V48.4763H104.749V53.3132H112.749ZM104.528 57.3132H108.749V49.3132H104.528V57.3132ZM108.528 64.7522V53.3132H100.528V64.7522H108.528ZM108.048 64.0627C108.383 64.4415 108.494 64.7844 108.523 64.8929C108.551 64.997 108.528 64.9719 108.528 64.7522H100.528C100.528 65.9915 100.731 67.8666 102.058 69.366L108.048 64.0627ZM107.061 63.3076C106.804 63.3076 106.8 63.2786 106.951 63.3232C107.109 63.3701 107.591 63.5458 108.05 64.0652L102.056 69.3635C103.611 71.123 105.84 71.3076 107.061 71.3076V63.3076ZM108.256 63.2177C107.995 63.2671 107.606 63.3076 107.061 63.3076V71.3076C107.976 71.3076 108.88 71.2416 109.744 71.0781L108.256 63.2177ZM113 72.1445V67.1479H105V72.1445H113ZM105.008 76.7377C106.768 76.7377 108.493 76.4825 110.17 75.9696L107.83 68.3194C106.921 68.5975 105.985 68.7377 105.008 68.7377V76.7377ZM93.9355 65.8113C93.993 68.7589 94.7819 71.6751 96.9566 73.8287C99.1383 75.9893 102.063 76.7377 105.008 76.7377V68.7377C103.328 68.7377 102.762 68.3187 102.586 68.1445C102.403 67.9633 101.968 67.3773 101.934 65.6553L93.9355 65.8113ZM93.9347 53.3132V65.7333H101.935V53.3132H93.9347ZM94.3297 57.3132H97.9347V49.3132H94.3297V57.3132ZM90.3297 48.4763V53.3132H98.3297V48.4763H90.3297ZM97.9347 44.4763H94.3297V52.4763H97.9347V44.4763ZM93.9347 41.526V48.4763H101.935V41.526H93.9347ZM104.528 37.526H97.9347V45.526H104.528V37.526Z\" fill=\"white\" mask=\"url(#path-3-outside-1)\">\n",
      "      </path>\n",
      "     </svg>\n",
      "     <h3 class=\"text-gray-600 text-sm\">\n",
      "      Removing Paywall\n",
      "      <svg class=\"animate-spin ml-2 inline-block h-3 w-3\" fill=\"none\" viewbox=\"0 0 24 24\" xmlns=\"http://www.w3.org/2000/svg\">\n",
      "       <circle class=\"opacity-25\" cx=\"12\" cy=\"12\" r=\"10\" stroke=\"currentColor\" stroke-width=\"4\">\n",
      "       </circle>\n",
      "       <path class=\"opacity-75\" d=\"M4 12a8 8 0 018-8V0C5.373 0 0 5.373 0 12h4zm2 5.291A7.962 7.962 0 014 12H0c0 3.042 1.135 5.824 3 7.938l3-2.647z\" fill=\"currentColor\">\n",
      "       </path>\n",
      "      </svg>\n",
      "     </h3>\n",
      "    </div>\n",
      "   </div>\n",
      "   <script>\n",
      "    function rawJS() {\n",
      "  const cleanURL = q => {\n",
      "    if (!q.includes(\"://\") && q.includes(\":/\")) {\n",
      "      q = q.replace(\":/\", \"://\");\n",
      "    }\n",
      "\n",
      "    if (!q.startsWith(\"http://\") && !q.startsWith(\"https://\")) {\n",
      "      q = \"https://\" + q;\n",
      "    }\n",
      "\n",
      "    return q;\n",
      "  };\n",
      "\n",
      "  var params = new URLSearchParams(window.location.search);\n",
      "  var q = params.get(\"q\");\n",
      "\n",
      "  if (!q) {\n",
      "    return;\n",
      "  }\n",
      "\n",
      "  q = cleanURL(q);\n",
      "  var elem = document.getElementById(\"proxy\");\n",
      "\n",
      "  if (elem instanceof HTMLIFrameElement) {\n",
      "    var ref = \"\";\n",
      "    elem.src = `/api/proxy?ref=${ref}&q=${encodeURIComponent(q)}`;\n",
      "  }\n",
      "\n",
      "  elem.addEventListener(\"load\", e => {\n",
      "    document.getElementById(\"loading\").style.display = \"none\";\n",
      "    document.title = \"12ft | \" + e.target.contentDocument.title;\n",
      "    const BSIZE = 50 * 1000; // 50kb\n",
      "\n",
      "    let content_length_bucket = Math.floor(e.target.contentDocument.documentElement.innerHTML.length / BSIZE) * BSIZE;\n",
      "    gtag(\"event\", \"proxy_view\", {\n",
      "      page_location: q,\n",
      "      page_host: new URL(q).host,\n",
      "      page_title: e.target.contentDocument.title,\n",
      "      content_length_bucket: content_length_bucket\n",
      "    });\n",
      "  });\n",
      "}\n",
      "        function docReady(fn) {\n",
      "            // see if DOM is already available\n",
      "            if (document.readyState === \"complete\" || document.readyState === \"interactive\") {\n",
      "                // call on next available tick\n",
      "                setTimeout(fn, 1);\n",
      "            } else {\n",
      "                document.addEventListener(\"DOMContentLoaded\", fn);\n",
      "            }\n",
      "        }\n",
      "        docReady(rawJS)\n",
      "   </script>\n",
      "  </div>\n",
      " </body>\n",
      "</html>\n"
     ]
    }
   ],
   "source": [
    "urls = \"https://12ft.io/proxy?q=https%3A%2F%2Ftowardsdatascience.com%2Fa-step-by-step-guide-to-web-scraping-in-python-5c4d9cef76e8\"\n",
    "\n",
    "r = requests.get(urls)\n",
    "docs = BeautifulSoup(r.text,\"html.parser\")\n",
    "print(docs.prettify())"
   ]
  },
  {
   "cell_type": "code",
   "execution_count": null,
   "id": "0b128f85",
   "metadata": {},
   "outputs": [],
   "source": []
  },
  {
   "cell_type": "markdown",
   "id": "158e6ad6",
   "metadata": {},
   "source": [
    "## 2"
   ]
  },
  {
   "cell_type": "code",
   "execution_count": 76,
   "id": "18b25029",
   "metadata": {},
   "outputs": [
    {
     "name": "stdout",
     "output_type": "stream",
     "text": [
      "{'value': 'course-type', 'selected': 'new_value', 'color': 'purple'}\n",
      "<option color=\"purple\" selected=\"new_value\" value=\"course-type\">Course type*</option>\n"
     ]
    }
   ],
   "source": [
    "from bs4 import BeautifulSoup\n",
    "\n",
    "with open (\"index1.html\", \"r\") as f:\n",
    "    Doc = BeautifulSoup(f,\"html.parser\")\n",
    "    \n",
    "tag = Doc.find(\"option\")\n",
    "\n",
    "# modified\n",
    "tag['selected'] = 'new_value'\n",
    "\n",
    "#adding attributes\n",
    "tag['color'] = 'purple'\n",
    "\n",
    "\n",
    "#see all attributes \n",
    "print(tag.attrs)\n",
    "\n",
    "\n",
    "print(tag)"
   ]
  },
  {
   "cell_type": "code",
   "execution_count": null,
   "id": "87befa46",
   "metadata": {},
   "outputs": [],
   "source": []
  },
  {
   "cell_type": "markdown",
   "id": "c17cd68c",
   "metadata": {},
   "source": [
    "## Find multiple tags"
   ]
  },
  {
   "cell_type": "code",
   "execution_count": 79,
   "id": "eab18ce0",
   "metadata": {},
   "outputs": [
    {
     "name": "stdout",
     "output_type": "stream",
     "text": [
      "[<option value=\"undergraduate\">Undergraduate</option>]\n"
     ]
    }
   ],
   "source": [
    "from bs4 import BeautifulSoup\n",
    "\n",
    "with open (\"index1.html\", \"r\") as f:\n",
    "    Doc = BeautifulSoup(f,\"html.parser\")\n",
    "    \n",
    "tags = Doc.find(['p','div','a','img','li'])\n",
    "#just pass the list the attributes\n",
    "\n",
    "#for finding with conditions\n",
    "tags = Doc.find_all(['option'] , text = 'Undergraduate'\n",
    "                    ,value= 'undergraduate')\n",
    "\n",
    "\n",
    "print(tags)"
   ]
  },
  {
   "cell_type": "markdown",
   "id": "0c211f07",
   "metadata": {},
   "source": [
    "### Look for different class names "
   ]
  },
  {
   "cell_type": "code",
   "execution_count": 82,
   "id": "00d4347a",
   "metadata": {},
   "outputs": [
    {
     "name": "stdout",
     "output_type": "stream",
     "text": [
      "[<a class=\"btn-item\" href=\"https://www.w3docs.com/learn-html.html\">Learn HTML</a>, <a class=\"btn-item\" href=\"https://www.w3docs.com/quiz/#\">Select Quiz</a>]\n"
     ]
    }
   ],
   "source": [
    "from bs4 import BeautifulSoup\n",
    "\n",
    "with open (\"index1.html\", \"r\") as f:\n",
    "    Doc = BeautifulSoup(f,\"html.parser\")\n",
    "    \n",
    "classy = Doc.find_all(class_='btn-item')\n",
    "#just pass the list the attributes\n",
    "\n",
    "\n",
    "\n",
    "print(classy)"
   ]
  },
  {
   "cell_type": "markdown",
   "id": "9056e772",
   "metadata": {},
   "source": [
    "### Finding using re expressoion"
   ]
  },
  {
   "cell_type": "code",
   "execution_count": 159,
   "id": "7a7b293d",
   "metadata": {},
   "outputs": [
    {
     "name": "stdout",
     "output_type": "stream",
     "text": [
      "$2345\n",
      "$123\n"
     ]
    }
   ],
   "source": [
    "from bs4 import BeautifulSoup\n",
    "import re\n",
    "\n",
    "with open (\"index1.html\", \"r\") as f:\n",
    "    Doc = BeautifulSoup(f,\"html.parser\")\n",
    "reg = Doc.find_all(text = re.compile(\"\\$.*\"))\n",
    "for i in reg:\n",
    "    print(i.strip())"
   ]
  },
  {
   "cell_type": "markdown",
   "id": "95462040",
   "metadata": {},
   "source": [
    "### Limit the search of the result"
   ]
  },
  {
   "cell_type": "code",
   "execution_count": 156,
   "id": "9bbff191",
   "metadata": {},
   "outputs": [
    {
     "name": "stdout",
     "output_type": "stream",
     "text": [
      "\n",
      "        $2345\n",
      "      \n"
     ]
    }
   ],
   "source": [
    "from bs4 import BeautifulSoup\n",
    "import re\n",
    "\n",
    "with open (\"index1.html\", \"r\") as f:\n",
    "    Doc = BeautifulSoup(f,\"html.parser\")\n",
    "reg = Doc.find_all(text = re.compile(\"\\$.*\"), limit=1)\n",
    "for i in reg:\n",
    "    print(i)"
   ]
  },
  {
   "cell_type": "markdown",
   "id": "d1a64e36",
   "metadata": {},
   "source": [
    "### Save modifies HTML"
   ]
  },
  {
   "cell_type": "code",
   "execution_count": 99,
   "id": "852c0c95",
   "metadata": {},
   "outputs": [],
   "source": [
    "from bs4 import BeautifulSoup\n",
    "import re\n",
    "\n",
    "with open (\"index1.html\", \"r\") as f:\n",
    "    Doc = BeautifulSoup(f,\"html.parser\")\n",
    "mod = Doc.find_all('input' , type = 'text')\n",
    "for i in mod:\n",
    "    i['placeholder'] = \"Enter Here!\"\n",
    "    \n",
    "with open('modified.html','w')as file:\n",
    "    file.write(str(Doc))\n"
   ]
  },
  {
   "cell_type": "code",
   "execution_count": null,
   "id": "3494c917",
   "metadata": {},
   "outputs": [],
   "source": []
  },
  {
   "cell_type": "markdown",
   "id": "a28b3a3f",
   "metadata": {},
   "source": [
    "## Tree Structure"
   ]
  },
  {
   "cell_type": "code",
   "execution_count": 132,
   "id": "4f6989ac",
   "metadata": {},
   "outputs": [
    {
     "name": "stdout",
     "output_type": "stream",
     "text": [
      "<generator object PageElement.next_siblings at 0x00000189A8A27BA0>\n",
      "tbody\n",
      "None\n"
     ]
    }
   ],
   "source": [
    "from bs4 import BeautifulSoup\n",
    "import requests\n",
    "import re\n",
    "\n",
    "url = 'https://coinmarketcap.com/'\n",
    "result = requests.get(url).text\n",
    "\n",
    "doc = BeautifulSoup(result,\"html.parser\")\n",
    "\n",
    "#To acess the title\n",
    "# print(doc.title)\n",
    "\n",
    "#This code gets the first <b> tag beneath the <body> tag:\n",
    "# print(doc.body.b)\n",
    "\n",
    "\n",
    "#TO get the table body \n",
    "tbody = doc.tbody\n",
    "\n",
    "#it gives the list of tabel rows in tabel body\n",
    "trs = tbody.contents\n",
    "\n",
    "# print(trs)\n",
    "\n",
    "#go forward\n",
    "# print(trs[0].next_sibling)\n",
    "\n",
    "#go back of the tree\n",
    "# print(trs[1].previous_sibling)\n",
    "\n",
    "#This will give the generator object \n",
    "print(trs[0].next_siblings)\n",
    "\n",
    "print(trs[0].parent.name)\n",
    "\n",
    "\n",
    "#Instead of getting them as a list, \n",
    "#you can iterate over a tag’s children using the .children generator:\n"
   ]
  },
  {
   "cell_type": "markdown",
   "id": "995a8dd1",
   "metadata": {},
   "source": [
    "#### The .descendants attribute lets you iterate over all of a tag’s children, recursively: its direct children, the children of its direct children, and so on:"
   ]
  },
  {
   "cell_type": "code",
   "execution_count": 139,
   "id": "c660d8a2",
   "metadata": {},
   "outputs": [
    {
     "name": "stdout",
     "output_type": "stream",
     "text": [
      "<generator object Tag.descendants at 0x00000189A8877B30>\n",
      "[<td><span class=\"sc-7238307d-2 igvzcH\"></span></td>, <td style=\"text-align:start\"><p class=\"sc-4984dd93-0 ihZPK\" color=\"text2\" data-sensors-click=\"true\" font-size=\"0\">2</p></td>, <td style=\"text-align:start\"><div class=\"sc-aef7b723-0 LCOyB\" display=\"flex\"><a class=\"cmc-link\" href=\"/currencies/ethereum/\"><div class=\"sc-aef7b723-0 sc-8497df48-0 iULUNk\" data-sensors-click=\"true\"><img alt=\"ETH logo\" class=\"coin-logo\" loading=\"lazy\" src=\"https://s2.coinmarketcap.com/static/img/coins/64x64/1027.png\"/><div class=\"sc-aef7b723-0 sc-8497df48-1 iATetF name-area\"><p class=\"sc-4984dd93-0 kKpPOn\" color=\"text\" data-sensors-click=\"true\" font-size=\"1\" font-weight=\"semibold\">Ethereum</p><div class=\"sc-8497df48-2 gtUrBF\" data-nosnippet=\"true\"><div class=\"sc-8497df48-3 erCSsg\">2</div><p class=\"sc-4984dd93-0 iqdbQL coin-item-symbol\" color=\"text3\" data-sensors-click=\"true\" font-size=\"1\">ETH</p></div></div></div></a></div></td>, <td style=\"text-align:end\"><div class=\"sc-cadad039-0 clgqXO\"><a class=\"cmc-link\" href=\"/currencies/ethereum/markets/\"><span>$1,915.23</span></a></div></td>, <td style=\"text-align:end\"><span class=\"sc-97d6d2ca-0 bQjSqS\"><span class=\"icon-Caret-down\"></span>0.38%</span></td>, <td style=\"text-align:end\"><span class=\"sc-97d6d2ca-0 bQjSqS\"><span class=\"icon-Caret-down\"></span>1.96%</span></td>, <td style=\"text-align:end\"><span class=\"sc-97d6d2ca-0 bQjSqS\"><span class=\"icon-Caret-down\"></span>9.42%</span></td>, <td style=\"text-align:end\"><p class=\"sc-4984dd93-0 jZrMxO\" color=\"text\" data-sensors-click=\"true\" font-size=\"1\" style=\"white-space:nowrap\"><span class=\"sc-edc9a476-0 fXzXSk\">$230.74B</span><span class=\"sc-edc9a476-1 gqomIJ\" data-nosnippet=\"true\">$230,738,300,089</span></p></td>, <td style=\"text-align:end\"><div class=\"sc-aef7b723-0 sc-8085623a-0 jIjTQr\"><a class=\"cmc-link\" href=\"/currencies/ethereum/markets/\"><p class=\"sc-4984dd93-0 jZrMxO font_weight_500\" color=\"text\" data-sensors-click=\"true\" font-size=\"1\">$11,509,427,184</p></a><div data-nosnippet=\"true\"><p class=\"sc-4984dd93-0 ihZPK\" color=\"text2\" data-sensors-click=\"true\" font-size=\"0\">6,006,479 ETH</p></div></div></td>, <td style=\"text-align:end\"><div class=\"sc-aef7b723-0 sc-e8f714de-0 cELvic\" data-sensors-click=\"true\" style=\"cursor:\"><div class=\"sc-aef7b723-0 sc-e8f714de-1 hSniWt\"><p class=\"sc-4984dd93-0 WfVLk\" color=\"text\" data-sensors-click=\"true\" font-size=\"1\" font-weight=\"medium\">120,416,480 ETH</p></div></div></td>, <td style=\"text-align:end\"><a class=\"cmc-link\" href=\"/currencies/ethereum/?period=7d\"><img alt=\"ethereum-7d-price-graph\" class=\"sc-beb003d5-0 fFgVaS\" loading=\"lazy\" src=\"https://s3.coinmarketcap.com/generated/sparklines/web/7d/2781/1027.svg\"/></a></td>, <td><div class=\"sc-aef7b723-0 dDQUel\"><button class=\"sc-44910c32-0 joueHH sc-126cfa71-0 gdmfGE\" data-sensors-click=\"true\"><span class=\"icon-More-Vertical\"></span></button></div></td>]\n",
      "[<td><span class=\"sc-7238307d-2 igvzcH\"></span></td>, <td style=\"text-align:start\"><p class=\"sc-4984dd93-0 ihZPK\" color=\"text2\" data-sensors-click=\"true\" font-size=\"0\">2</p></td>, <td style=\"text-align:start\"><div class=\"sc-aef7b723-0 LCOyB\" display=\"flex\"><a class=\"cmc-link\" href=\"/currencies/ethereum/\"><div class=\"sc-aef7b723-0 sc-8497df48-0 iULUNk\" data-sensors-click=\"true\"><img alt=\"ETH logo\" class=\"coin-logo\" loading=\"lazy\" src=\"https://s2.coinmarketcap.com/static/img/coins/64x64/1027.png\"/><div class=\"sc-aef7b723-0 sc-8497df48-1 iATetF name-area\"><p class=\"sc-4984dd93-0 kKpPOn\" color=\"text\" data-sensors-click=\"true\" font-size=\"1\" font-weight=\"semibold\">Ethereum</p><div class=\"sc-8497df48-2 gtUrBF\" data-nosnippet=\"true\"><div class=\"sc-8497df48-3 erCSsg\">2</div><p class=\"sc-4984dd93-0 iqdbQL coin-item-symbol\" color=\"text3\" data-sensors-click=\"true\" font-size=\"1\">ETH</p></div></div></div></a></div></td>, <td style=\"text-align:end\"><div class=\"sc-cadad039-0 clgqXO\"><a class=\"cmc-link\" href=\"/currencies/ethereum/markets/\"><span>$1,915.23</span></a></div></td>, <td style=\"text-align:end\"><span class=\"sc-97d6d2ca-0 bQjSqS\"><span class=\"icon-Caret-down\"></span>0.38%</span></td>, <td style=\"text-align:end\"><span class=\"sc-97d6d2ca-0 bQjSqS\"><span class=\"icon-Caret-down\"></span>1.96%</span></td>, <td style=\"text-align:end\"><span class=\"sc-97d6d2ca-0 bQjSqS\"><span class=\"icon-Caret-down\"></span>9.42%</span></td>, <td style=\"text-align:end\"><p class=\"sc-4984dd93-0 jZrMxO\" color=\"text\" data-sensors-click=\"true\" font-size=\"1\" style=\"white-space:nowrap\"><span class=\"sc-edc9a476-0 fXzXSk\">$230.74B</span><span class=\"sc-edc9a476-1 gqomIJ\" data-nosnippet=\"true\">$230,738,300,089</span></p></td>, <td style=\"text-align:end\"><div class=\"sc-aef7b723-0 sc-8085623a-0 jIjTQr\"><a class=\"cmc-link\" href=\"/currencies/ethereum/markets/\"><p class=\"sc-4984dd93-0 jZrMxO font_weight_500\" color=\"text\" data-sensors-click=\"true\" font-size=\"1\">$11,509,427,184</p></a><div data-nosnippet=\"true\"><p class=\"sc-4984dd93-0 ihZPK\" color=\"text2\" data-sensors-click=\"true\" font-size=\"0\">6,006,479 ETH</p></div></div></td>, <td style=\"text-align:end\"><div class=\"sc-aef7b723-0 sc-e8f714de-0 cELvic\" data-sensors-click=\"true\" style=\"cursor:\"><div class=\"sc-aef7b723-0 sc-e8f714de-1 hSniWt\"><p class=\"sc-4984dd93-0 WfVLk\" color=\"text\" data-sensors-click=\"true\" font-size=\"1\" font-weight=\"medium\">120,416,480 ETH</p></div></div></td>, <td style=\"text-align:end\"><a class=\"cmc-link\" href=\"/currencies/ethereum/?period=7d\"><img alt=\"ethereum-7d-price-graph\" class=\"sc-beb003d5-0 fFgVaS\" loading=\"lazy\" src=\"https://s3.coinmarketcap.com/generated/sparklines/web/7d/2781/1027.svg\"/></a></td>, <td><div class=\"sc-aef7b723-0 dDQUel\"><button class=\"sc-44910c32-0 joueHH sc-126cfa71-0 gdmfGE\" data-sensors-click=\"true\"><span class=\"icon-More-Vertical\"></span></button></div></td>]\n"
     ]
    }
   ],
   "source": [
    "print(trs[1].descendants)\n",
    "print(trs[1].contents)\n",
    "print(list(trs[1].children))"
   ]
  },
  {
   "cell_type": "code",
   "execution_count": null,
   "id": "ceb93a95",
   "metadata": {},
   "outputs": [],
   "source": []
  },
  {
   "cell_type": "code",
   "execution_count": 155,
   "id": "aaf04c99",
   "metadata": {},
   "outputs": [
    {
     "name": "stdout",
     "output_type": "stream",
     "text": [
      "{'Bitcoin': '$28,027.07', 'Ethereum': '$1,915.23', 'Tether': '$1.00', 'BNB': '$329.62', 'USD Coin': '$1.00', 'XRP': '$0.471', 'Cardano': '$0.4041', 'Dogecoin': '$0.08406', 'Polygon': '$1.05', 'Solana': '$22.17'}\n"
     ]
    }
   ],
   "source": [
    "prices = {}\n",
    "\n",
    "for tr in trs[:10] :\n",
    "#     for td in tr.contents:\n",
    "    name,price = tr.contents[2:4]\n",
    "    fixed_name = name.p.string\n",
    "    fixed_price = price.span.string\n",
    "    \n",
    "    prices[fixed_name] = fixed_price\n",
    "print(prices)\n",
    "    \n",
    "    "
   ]
  },
  {
   "cell_type": "code",
   "execution_count": null,
   "id": "2db35e4b",
   "metadata": {},
   "outputs": [],
   "source": []
  },
  {
   "cell_type": "code",
   "execution_count": null,
   "id": "e86b80b7",
   "metadata": {},
   "outputs": [],
   "source": []
  },
  {
   "cell_type": "code",
   "execution_count": null,
   "id": "6c0a426f",
   "metadata": {},
   "outputs": [],
   "source": []
  },
  {
   "cell_type": "code",
   "execution_count": null,
   "id": "e4e041de",
   "metadata": {},
   "outputs": [],
   "source": []
  },
  {
   "cell_type": "code",
   "execution_count": null,
   "id": "11959f42",
   "metadata": {},
   "outputs": [],
   "source": []
  },
  {
   "cell_type": "code",
   "execution_count": null,
   "id": "87ff96e8",
   "metadata": {},
   "outputs": [],
   "source": []
  },
  {
   "cell_type": "code",
   "execution_count": null,
   "id": "90ceb920",
   "metadata": {},
   "outputs": [],
   "source": []
  },
  {
   "cell_type": "code",
   "execution_count": null,
   "id": "815a67c2",
   "metadata": {},
   "outputs": [],
   "source": []
  },
  {
   "cell_type": "code",
   "execution_count": null,
   "id": "689044ae",
   "metadata": {},
   "outputs": [],
   "source": []
  },
  {
   "cell_type": "code",
   "execution_count": null,
   "id": "48b130cc",
   "metadata": {},
   "outputs": [],
   "source": []
  },
  {
   "cell_type": "code",
   "execution_count": null,
   "id": "02776844",
   "metadata": {},
   "outputs": [],
   "source": []
  },
  {
   "cell_type": "code",
   "execution_count": null,
   "id": "f5604321",
   "metadata": {},
   "outputs": [],
   "source": []
  },
  {
   "cell_type": "code",
   "execution_count": null,
   "id": "d9adb513",
   "metadata": {},
   "outputs": [],
   "source": []
  },
  {
   "cell_type": "code",
   "execution_count": null,
   "id": "a28d5d84",
   "metadata": {},
   "outputs": [],
   "source": []
  },
  {
   "cell_type": "code",
   "execution_count": null,
   "id": "4d1bc85b",
   "metadata": {},
   "outputs": [],
   "source": []
  }
 ],
 "metadata": {
  "kernelspec": {
   "display_name": "Python 3 (ipykernel)",
   "language": "python",
   "name": "python3"
  },
  "language_info": {
   "codemirror_mode": {
    "name": "ipython",
    "version": 3
   },
   "file_extension": ".py",
   "mimetype": "text/x-python",
   "name": "python",
   "nbconvert_exporter": "python",
   "pygments_lexer": "ipython3",
   "version": "3.9.13"
  }
 },
 "nbformat": 4,
 "nbformat_minor": 5
}
