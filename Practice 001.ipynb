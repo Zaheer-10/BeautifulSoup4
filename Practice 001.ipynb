{
 "cells": [
  {
   "cell_type": "code",
   "execution_count": null,
   "id": "751026c1",
   "metadata": {},
   "outputs": [],
   "source": []
  },
  {
   "cell_type": "code",
   "execution_count": null,
   "id": "b7c321de",
   "metadata": {},
   "outputs": [],
   "source": []
  },
  {
   "cell_type": "markdown",
   "id": "d6aee80d",
   "metadata": {},
   "source": [
    "### Reading  HTML file from local disk"
   ]
  },
  {
   "cell_type": "code",
   "execution_count": 1,
   "id": "099b16aa",
   "metadata": {},
   "outputs": [
    {
     "name": "stdout",
     "output_type": "stream",
     "text": [
      "<!DOCTYPE html>\n",
      "<html lang=\"en\">\n",
      " <head>\n",
      "  <meta charset=\"utf-8\"/>\n",
      "  <meta content=\"width=device-width, initial-scale=1\" name=\"viewport\"/>\n",
      "  <link href=\"style.css\" rel=\"stylesheet\"/>\n",
      "  <title>\n",
      "   cafe\n",
      "  </title>\n",
      "  <!-- logo  -->\n",
      "  <link href=\"https://www.cafecoffeeday.com/sites/default/files/64x64-CCD_6_0.png\" rel=\"shortcut icon\" type=\"image/png\"/>\n",
      "  <!-- css bootstrap  -->\n",
      "  <link crossorigin=\"anonymous\" href=\"https://cdn.jsdelivr.net/npm/bootstrap@5.2.3/dist/css/bootstrap.min.css\" integrity=\"sha384-rbsA2VBKQhggwzxH7pPCaAqO46MgnOM80zW1RWuH61DGLwZJEdK2Kadq2F9CUG65\" rel=\"stylesheet\"/>\n",
      " </head>\n",
      " <body>\n",
      "  <!-- nav bar  -->\n",
      "  <nav class=\"navbar navbar-expand-lg bg-text-white\">\n",
      "   <div class=\"container-fluid\">\n",
      "    <a class=\"navbar-brand text-white fw-bold ms-md-3\" href=\"#\">\n",
      "     <img alt=\"logo\" src=\"img/logo (1).png\"/>\n",
      "    </a>\n",
      "    <button aria-controls=\"navbarSupportedContent\" aria-expanded=\"false\" aria-label=\"Toggle navigation\" class=\"navbar-toggler\" data-bs-target=\"#navbarSupportedContent\" data-bs-toggle=\"collapse\" type=\"button\">\n",
      "     <span class=\"navbar-toggler-icon\">\n",
      "     </span>\n",
      "    </button>\n",
      "    <div class=\"collapse navbar-collapse\" id=\"navbarSupportedContent\">\n",
      "     <ul class=\"navbar-nav me-auto mb-2 mb-lg-0\">\n",
      "      <li class=\"nav-item\">\n",
      "       <a aria-current=\"page\" class=\"nav-link active text-danger\" href=\"index.html           \">\n",
      "        Home\n",
      "       </a>\n",
      "      </li>\n",
      "      <li class=\"nav-item\">\n",
      "       <a class=\"nav-link text-danger\" href=\"shop.html\">\n",
      "        E-Shop\n",
      "        <img alt=\"logo\" height='20px\"' src=\"img/cart-icon (1).gif\"/>\n",
      "       </a>\n",
      "      </li>\n",
      "      <li class=\"nav-item\">\n",
      "       <a class=\"nav-link text-danger\" href=\"aboutus.html\">\n",
      "        About Us\n",
      "       </a>\n",
      "      </li>\n",
      "      <li class=\"nav-item\">\n",
      "       <a class=\"nav-link text-danger\" href=\"cafemenu.html\">\n",
      "        Cafe Menu\n",
      "       </a>\n",
      "      </li>\n",
      "      <li class=\"nav-item\">\n",
      "       <a class=\"nav-link text-danger\" href=\"locations.html\">\n",
      "        Cafe Locator\n",
      "       </a>\n",
      "      </li>\n",
      "     </ul>\n",
      "     <form class=\"d-flex\" role=\"search\">\n",
      "      <input aria-label=\"Search\" class=\"form-control me-2 border border-danger\" placeholder=\"Search\" type=\"search\"/>\n",
      "      <a class=\"btn btn-outline-danger\" href=\"https://www.cafecoffeeday.com/\" type=\"submit\">\n",
      "       Search\n",
      "      </a>\n",
      "     </form>\n",
      "    </div>\n",
      "   </div>\n",
      "  </nav>\n",
      "  <!-- carousel -->\n",
      "  <div class=\"carousel slide carousel-fade\" data-bs-ride=\"carousel\" id=\"carouselExampleFade\">\n",
      "   <div class=\"carousel-inner\">\n",
      "    <div class=\"carousel-item active\">\n",
      "     <img alt=\"Los Angeles\" class=\"d-block\" src=\"img/FOC-Website Banner (1).png\" style=\"width:100%\"/>\n",
      "    </div>\n",
      "    <div class=\"carousel-item\">\n",
      "     <img alt=\"Los Angeles\" class=\"d-block\" src=\"img/TSN-Website Banner (1).png\" style=\"width:100%\"/>\n",
      "    </div>\n",
      "    <div class=\"carousel-item\">\n",
      "     <img alt=\"Los Angeles\" class=\"d-block\" src=\"img/Safety-CCD-Web Banner-Desktop.png\" style=\"width:100%\"/>\n",
      "    </div>\n",
      "   </div>\n",
      "   <button class=\"carousel-control-prev\" data-bs-slide=\"prev\" data-bs-target=\"#carouselExampleFade\" type=\"button\">\n",
      "    <span aria-hidden=\"true\" class=\"carousel-control-prev-icon\">\n",
      "    </span>\n",
      "    <span class=\"visually-hidden\">\n",
      "     Previous\n",
      "    </span>\n",
      "   </button>\n",
      "   <button class=\"carousel-control-next\" data-bs-slide=\"next\" data-bs-target=\"#carouselExampleFade\" type=\"button\">\n",
      "    <span aria-hidden=\"true\" class=\"carousel-control-next-icon\">\n",
      "    </span>\n",
      "    <span class=\"visually-hidden\">\n",
      "     Next\n",
      "    </span>\n",
      "   </button>\n",
      "  </div>\n",
      "  <!-- order section -->\n",
      "  <h2 class=\"text-center\">\n",
      "   Order you Coffee Now...!\n",
      "  </h2>\n",
      "  <div class=\"row\">\n",
      "   <div class=\"col-md-4 col-sm-6 col-xs-12 col-lg-4 col-no-space p-0\">\n",
      "    <h2>\n",
      "     <img alt=\"Los Angeles\" class=\"d-block\" src=\"img/What'sNew-Open-copy_0 (1).gif\" style=\"width:100%\"/>\n",
      "    </h2>\n",
      "   </div>\n",
      "   <div class=\"col-md-4 col-sm-6 col-xs-12 col-lg-4 col-no-space p-0\">\n",
      "    <img alt=\"Los Angeles\" class=\"d-block\" src=\"img/map-locator (1).gif\" style=\"width:100%\"/>\n",
      "   </div>\n",
      "   <div class=\"col-md-4 col-sm-6 col-xs-12 col-lg-4 col-no-space p-0\">\n",
      "    <img alt=\"Los Angeles\" class=\"d-block\" src=\"img/Shop now gif new (1).gif\" style=\"width:100%\"/>\n",
      "   </div>\n",
      "  </div>\n",
      "  <!-- 3rd part -->\n",
      "  <div class=\"conatiner code\">\n",
      "   <div class=\"row\">\n",
      "    <div class=\"col-md-4 col-lg-4 col-sm-5 col-2\">\n",
      "    </div>\n",
      "    <div class=\"col-md-4 col-lg-4 col-sm-4 col-8 text-center\">\n",
      "     <img alt=\"...\" class=\"rounded mx-auto d-block mt-5\" height=\"150px\" src=\"img/history-text.png\" width=\"250px\"/>\n",
      "     <br/>\n",
      "     <br/>\n",
      "     <a class=\"btn btn-outline-danger\" href=\"https://startuptalky.com/cafe-coffee-day-case-study/\" type=\"submit\">\n",
      "      Read Our Story\n",
      "     </a>\n",
      "    </div>\n",
      "    <div class=\"col-md-4 col-lg-4 col-sm-2\">\n",
      "    </div>\n",
      "   </div>\n",
      "  </div>\n",
      "  <br/>\n",
      "  <!-- social media -->\n",
      "  <div class=\"container\">\n",
      "   <div class=\"row\">\n",
      "    <div class=\"col-4\">\n",
      "    </div>\n",
      "    <div class=\"col-sm-6 col-md-4 col-lg-3 text-center d-flex justify-content-between justify-content-sm-between\">\n",
      "     <a class=\"navbar-brand\" href=\"https://www.instagram.com/cafecoffeeday/\" rel=\"noopener\" target=\"_blank\">\n",
      "      <img alt=\"instagram\" class=\"pic\" src=\"img/instagram.jpg\"/>\n",
      "     </a>\n",
      "     <a class=\"navbar-brand\" href=\"https://www.youtube.com/user/cafecoffeeday\" rel=\"noopener\" target=\"_blank\">\n",
      "      <img alt=\"youtube\" class=\"pic\" src=\"img/youtube.jpg\"/>\n",
      "     </a>\n",
      "     <a class=\"navbar-brand\" href=\"https://twitter.com/CafeCoffeeDay\" rel=\"noopener\" target=\"_blank\">\n",
      "      <img alt=\"twitter\" class=\"pic\" src=\" img/twitter.jpg\"/>\n",
      "     </a>\n",
      "     <a class=\"navbar-brand\" href=\"https://www.facebook.com/cafecoffeeday\" rel=\"noopener\" target=\"_blank\">\n",
      "      <img alt=\"facebook\" class=\"pic\" src=\"img/sign-fb-logo.png\"/>\n",
      "     </a>\n",
      "    </div>\n",
      "    <div class=\"col-4\">\n",
      "    </div>\n",
      "   </div>\n",
      "  </div>\n",
      "  <hr class=\"container\"/>\n",
      "  <br/>\n",
      "  <!-- footer -->\n",
      "  <div class=\"conatainer\">\n",
      "   <div class=\"row\">\n",
      "    <div class=\"col-3\">\n",
      "     <h5 class=\"text-center navbar-brand fw-bold\">\n",
      "      Quick links\n",
      "     </h5>\n",
      "     <br/>\n",
      "     <p class=\"text-secondary text-center\">\n",
      "      Home page\n",
      "     </p>\n",
      "     <p class=\"text-secondary text-center\">\n",
      "      Cafe Menu\n",
      "     </p>\n",
      "     <p class=\"text-secondary text-center\">\n",
      "      Cafe Locator\n",
      "     </p>\n",
      "     <p class=\"text-secondary text-center\">\n",
      "      Read Story\n",
      "     </p>\n",
      "     <br/>\n",
      "    </div>\n",
      "    <div class=\"col-3\">\n",
      "     <center>\n",
      "      <a class=\"text-center navbar-brand fw-bold\" href=\"cafemenu.html\">\n",
      "       Cafe Menu\n",
      "      </a>\n",
      "     </center>\n",
      "     <br/>\n",
      "     <p class=\"text-secondary text-center\">\n",
      "      Energy Drinks\n",
      "     </p>\n",
      "     <p class=\"text-secondary text-center\">\n",
      "      Hot Classic\n",
      "     </p>\n",
      "     <p class=\"text-secondary text-center\">\n",
      "      Chillers\n",
      "     </p>\n",
      "     <p class=\"text-secondary text-center\">\n",
      "      Delights\n",
      "     </p>\n",
      "    </div>\n",
      "    <div class=\"col-3\">\n",
      "     <center>\n",
      "      <a class=\"text-start navbar-brand fw-bold\" href=\"shop.html\">\n",
      "       E-Shop\n",
      "      </a>\n",
      "     </center>\n",
      "     <br/>\n",
      "     <p class=\"text-secondary text-center\">\n",
      "      Mugs\n",
      "     </p>\n",
      "     <p class=\"text-secondary text-center\">\n",
      "      Powders\n",
      "     </p>\n",
      "     <p class=\"text-secondary text-center\">\n",
      "      Makers\n",
      "     </p>\n",
      "     <p class=\"text-secondary text-center\">\n",
      "      Gifts\n",
      "     </p>\n",
      "    </div>\n",
      "    <div class=\"col-3\">\n",
      "     <center>\n",
      "      <a class=\"text-start navbar-brand fw-bold\" href=\"aboutus.html\">\n",
      "       About Us\n",
      "      </a>\n",
      "     </center>\n",
      "     <br/>\n",
      "     <p class=\"text-secondary text-center\">\n",
      "      Awards\n",
      "     </p>\n",
      "     <p class=\"text-secondary text-center\">\n",
      "      Business\n",
      "     </p>\n",
      "     <p class=\"text-secondary text-center\">\n",
      "      Careers\n",
      "     </p>\n",
      "     <p class=\"text-secondary text-center\">\n",
      "      Contact Us\n",
      "     </p>\n",
      "    </div>\n",
      "    <div class=\"collapse navbar-collapse\" id=\"myNavbar\">\n",
      "    </div>\n",
      "   </div>\n",
      "  </div>\n",
      "  <br/>\n",
      "  <br/>\n",
      "  <hr/>\n",
      "  <!-- script code -->\n",
      "  <script crossorigin=\"anonymous\" integrity=\"sha384-oBqDVmMz9ATKxIep9tiCxS/Z9fNfEXiDAYTujMAeBAsjFuCZSmKbSSUnQlmh/jp3\" src=\"https://cdn.jsdelivr.net/npm/@popperjs/core@2.11.6/dist/umd/popper.min.js\">\n",
      "  </script>\n",
      "  <script crossorigin=\"anonymous\" integrity=\"sha384-cuYeSxntonz0PPNlHhBs68uyIAVpIIOZZ5JqeqvYYIcEL727kskC66kF92t6Xl2V\" src=\"https://cdn.jsdelivr.net/npm/bootstrap@5.2.3/dist/js/bootstrap.min.js\">\n",
      "  </script>\n",
      " </body>\n",
      "</html>\n"
     ]
    }
   ],
   "source": [
    "from bs4 import BeautifulSoup\n",
    "\n",
    "with open(\"index.html\" , \"r\") as f:\n",
    "    doc = BeautifulSoup(f, \"html.parser\")\n",
    "    \n",
    "print(doc.prettify())\n",
    "#prettify give with proper view with indentation\n"
   ]
  },
  {
   "cell_type": "markdown",
   "id": "cd684f4b",
   "metadata": {},
   "source": [
    "### How to find things by tag names"
   ]
  },
  {
   "cell_type": "code",
   "execution_count": 2,
   "id": "9fa23c3a",
   "metadata": {},
   "outputs": [
    {
     "name": "stdout",
     "output_type": "stream",
     "text": [
      "<title>cafe</title>\n",
      "cafe\n",
      "Modified\n"
     ]
    }
   ],
   "source": [
    "from bs4 import BeautifulSoup\n",
    "\n",
    "with open(\"index.html\" , \"r\") as f:\n",
    "    doc = BeautifulSoup(f, \"html.parser\")\n",
    "    \n",
    "tag = doc.title\n",
    "print(tag)\n",
    "\n",
    "# To acess a string inside a tag \n",
    "print(tag.string)\n",
    "\n",
    "#To modify Title \n",
    "tag1 = doc.title\n",
    "tag1.string = 'Modified'\n",
    "print(tag1.string)\n",
    "\n"
   ]
  },
  {
   "cell_type": "markdown",
   "id": "27d313c9",
   "metadata": {},
   "source": [
    "#### Here are some simple ways to navigate that data structure:"
   ]
  },
  {
   "cell_type": "code",
   "execution_count": 3,
   "id": "6b65af3e",
   "metadata": {
    "scrolled": true
   },
   "outputs": [
    {
     "name": "stdout",
     "output_type": "stream",
     "text": [
      "<title>Modified</title>\n",
      "title\n",
      "Modified\n",
      "head\n",
      "<p class=\"text-secondary text-center\">Home page</p>\n",
      "<a class=\"navbar-brand text-white fw-bold ms-md-3\" href=\"#\"> <img alt=\"logo\" src=\"img/logo (1).png\"/></a>\n",
      "[<a class=\"navbar-brand text-white fw-bold ms-md-3\" href=\"#\"> <img alt=\"logo\" src=\"img/logo (1).png\"/></a>, <a aria-current=\"page\" class=\"nav-link active text-danger\" href=\"index.html           \">Home</a>, <a class=\"nav-link text-danger\" href=\"shop.html\">E-Shop<img alt=\"logo\" height='20px\"' src=\"img/cart-icon (1).gif\"/></a>, <a class=\"nav-link text-danger\" href=\"aboutus.html\">About Us</a>, <a class=\"nav-link text-danger\" href=\"cafemenu.html\">Cafe Menu</a>, <a class=\"nav-link text-danger\" href=\"locations.html\">Cafe Locator</a>, <a class=\"btn btn-outline-danger\" href=\"https://www.cafecoffeeday.com/\" type=\"submit\">Search\n",
      "          </a>, <a class=\"btn btn-outline-danger\" href=\"https://startuptalky.com/cafe-coffee-day-case-study/\" type=\"submit\">Read Our Story\n",
      "        </a>, <a class=\"navbar-brand\" href=\"https://www.instagram.com/cafecoffeeday/\" rel=\"noopener\" target=\"_blank\"> <img alt=\"instagram\" class=\"pic\" src=\"img/instagram.jpg\"/> </a>, <a class=\"navbar-brand\" href=\"https://www.youtube.com/user/cafecoffeeday\" rel=\"noopener\" target=\"_blank\"> <img alt=\"youtube\" class=\"pic\" src=\"img/youtube.jpg\"/> </a>, <a class=\"navbar-brand\" href=\"https://twitter.com/CafeCoffeeDay\" rel=\"noopener\" target=\"_blank\"> <img alt=\"twitter\" class=\"pic\" src=\" img/twitter.jpg\"/> </a>, <a class=\"navbar-brand\" href=\"https://www.facebook.com/cafecoffeeday\" rel=\"noopener\" target=\"_blank\"> <img alt=\"facebook\" class=\"pic\" src=\"img/sign-fb-logo.png\"/> </a>, <a class=\"text-center navbar-brand fw-bold\" href=\"cafemenu.html\">Cafe Menu</a>, <a class=\"text-start navbar-brand fw-bold\" href=\"shop.html\">E-Shop</a>, <a class=\"text-start navbar-brand fw-bold\" href=\"aboutus.html\">About Us</a>]\n"
     ]
    }
   ],
   "source": [
    "print(doc.title)\n",
    "#<title>Are you a human?</title>\n",
    "\n",
    "print(doc.title.name)\n",
    "#title\n",
    "\n",
    "print(doc.title.string)\n",
    "#Are you a human?\n",
    "print(doc.title.parent.name)\n",
    "#head\n",
    "\n",
    "print(doc.p)\n",
    "#paragraph\n",
    "\n",
    "print(doc.a)\n",
    "#single attribut \n",
    "\n",
    "print(doc.find_all('a'))\n",
    "#all attribues\n",
    "\n",
    "# print(doc.find(id = 'id_name'))"
   ]
  },
  {
   "cell_type": "markdown",
   "id": "0d6db277",
   "metadata": {},
   "source": [
    "#### One common task is extracting all the URLs found within a page’s <a> tags:"
   ]
  },
  {
   "cell_type": "code",
   "execution_count": 4,
   "id": "c889b813",
   "metadata": {},
   "outputs": [
    {
     "name": "stdout",
     "output_type": "stream",
     "text": [
      "#\n",
      "index.html           \n",
      "shop.html\n",
      "aboutus.html\n",
      "cafemenu.html\n",
      "locations.html\n",
      "https://www.cafecoffeeday.com/\n",
      "https://startuptalky.com/cafe-coffee-day-case-study/\n",
      "https://www.instagram.com/cafecoffeeday/\n",
      "https://www.youtube.com/user/cafecoffeeday\n",
      "https://twitter.com/CafeCoffeeDay\n",
      "https://www.facebook.com/cafecoffeeday\n",
      "cafemenu.html\n",
      "shop.html\n",
      "aboutus.html\n"
     ]
    }
   ],
   "source": [
    "for link in doc.find_all('a'):\n",
    "    print(link.get('href'))"
   ]
  },
  {
   "cell_type": "markdown",
   "id": "236a12e1",
   "metadata": {},
   "source": [
    "#### Another common task is extracting all the text from a page:\n",
    "\n"
   ]
  },
  {
   "cell_type": "code",
   "execution_count": 5,
   "id": "37719ca4",
   "metadata": {},
   "outputs": [
    {
     "name": "stdout",
     "output_type": "stream",
     "text": [
      "\n",
      "\n",
      "\n",
      "\n",
      "\n",
      "\n",
      "Modified\n",
      "\n",
      "\n",
      "\n",
      "\n",
      "\n",
      "\n",
      "\n",
      "\n",
      "\n",
      " \n",
      "\n",
      "\n",
      "\n",
      "\n",
      "\n",
      "\n",
      "Home\n",
      "\n",
      "\n",
      "E-Shop\n",
      "\n",
      "\n",
      "About Us\n",
      "\n",
      "\n",
      "Cafe Menu\n",
      "\n",
      "\n",
      "Cafe Locator\n",
      "\n",
      "\n",
      "\n",
      "\n",
      "Search\n",
      "          \n",
      "\n",
      "\n",
      "\n",
      "\n",
      "\n",
      "\n",
      "\n",
      "\n",
      "\n",
      "\n",
      "\n",
      "\n",
      "\n",
      "\n",
      "\n",
      "\n",
      "\n",
      "\n",
      "\n",
      "Previous\n",
      "\n",
      "\n",
      "\n",
      "Next\n",
      "\n",
      "\n",
      "\n",
      "Order you Coffee Now...!\n",
      "\n",
      "\n",
      "\n",
      "\n",
      "\n",
      "\n",
      "\n",
      "\n",
      "\n",
      "\n",
      "\n",
      "\n",
      "\n",
      "\n",
      "\n",
      "\n",
      "\n",
      "\n",
      "\n",
      "Read Our Story\n",
      "        \n",
      "\n",
      "\n",
      "\n",
      "\n",
      "\n",
      "\n",
      "\n",
      "\n",
      "\n",
      "\n",
      "\n",
      "  \n",
      "  \n",
      "  \n",
      "  \n",
      "\n",
      "\n",
      "\n",
      "\n",
      "\n",
      "\n",
      "\n",
      "\n",
      "\n",
      "\n",
      "Quick links\n",
      "\n",
      "Home page\n",
      "Cafe Menu\n",
      "Cafe Locator\n",
      "Read Story\n",
      "\n",
      "\n",
      "\n",
      "Cafe Menu\n",
      "\n",
      "Energy Drinks\n",
      "Hot Classic\n",
      "Chillers\n",
      "Delights\n",
      "\n",
      "\n",
      "E-Shop\n",
      "\n",
      "Mugs\n",
      "Powders\n",
      "Makers\n",
      "Gifts\n",
      "\n",
      "\n",
      "About Us\n",
      "\n",
      "Awards\n",
      "Business\n",
      "Careers\n",
      "Contact Us\n",
      "\n",
      "\n",
      "\n",
      "\n",
      "\n",
      "\n",
      "\n",
      "\n",
      "\n",
      "\n",
      "\n"
     ]
    }
   ],
   "source": [
    "print(doc.get_text())"
   ]
  },
  {
   "cell_type": "markdown",
   "id": "5e02d54f",
   "metadata": {},
   "source": [
    "#### Also you can use find and find all methods to acess the tags"
   ]
  },
  {
   "cell_type": "code",
   "execution_count": 6,
   "id": "0bff90ce",
   "metadata": {},
   "outputs": [
    {
     "name": "stdout",
     "output_type": "stream",
     "text": [
      "<a class=\"navbar-brand text-white fw-bold ms-md-3\" href=\"#\"> <img alt=\"logo\" src=\"img/logo (1).png\"/></a>\n",
      "************************************************** \n",
      "\n",
      "[<p class=\"text-secondary text-center\">Home page</p>, <p class=\"text-secondary text-center\">Cafe Menu</p>, <p class=\"text-secondary text-center\">Cafe Locator</p>, <p class=\"text-secondary text-center\">Read Story</p>, <p class=\"text-secondary text-center\">Energy Drinks</p>, <p class=\"text-secondary text-center\">Hot Classic</p>, <p class=\"text-secondary text-center\">Chillers</p>, <p class=\"text-secondary text-center\">Delights</p>, <p class=\"text-secondary text-center\">Mugs</p>, <p class=\"text-secondary text-center\">Powders</p>, <p class=\"text-secondary text-center\">Makers</p>, <p class=\"text-secondary text-center\">Gifts</p>, <p class=\"text-secondary text-center\">Awards</p>, <p class=\"text-secondary text-center\">Business</p>, <p class=\"text-secondary text-center\">Careers</p>, <p class=\"text-secondary text-center\">Contact Us</p>]\n"
     ]
    },
    {
     "data": {
      "text/plain": [
       "<p class=\"text-secondary text-center\">Cafe Menu</p>"
      ]
     },
     "execution_count": 6,
     "metadata": {},
     "output_type": "execute_result"
    }
   ],
   "source": [
    "from bs4 import BeautifulSoup\n",
    "\n",
    "with open(\"index.html\" , \"r\") as f:\n",
    "    doc = BeautifulSoup(f, \"html.parser\")\n",
    "    \n",
    "tags = doc.find('a') # this will retutn only the first link in ur html file\n",
    "print(tags)\n",
    "\n",
    "print(\"*\"*50,\"\\n\")\n",
    "\n",
    "tagss = doc.find_all('p')\n",
    "print(tagss)\n",
    "\n",
    "# To read speicfin nth tag\n",
    "doc.find_all('p')[1]"
   ]
  },
  {
   "cell_type": "markdown",
   "id": "cd5a91d6",
   "metadata": {},
   "source": [
    "## Parsing Website HTML\n",
    "\n",
    "### Simpy reading an html through url"
   ]
  },
  {
   "cell_type": "code",
   "execution_count": 7,
   "id": "dcaa1c5b",
   "metadata": {},
   "outputs": [],
   "source": [
    "from bs4 import BeautifulSoup\n",
    "import requests\n",
    "\n",
    "url = \"https://www.newegg.ca/gigabyte-geforce-rtx-3080-ti-gv-n308tgaming-oc-12gd/p/N82E16814932436?Description=3080&cm_re=3080-_-14-932-436-_-Product\"\n",
    "\n",
    "result = requests.get(url)\n",
    "\n",
    "# print(result.text) \n",
    "\n",
    "doc = BeautifulSoup(result.text,\"html.parser\")\n",
    "# print(doc.prettify())"
   ]
  },
  {
   "cell_type": "markdown",
   "id": "d74be298",
   "metadata": {},
   "source": [
    "#### Locating the text (Fnding the Price)"
   ]
  },
  {
   "cell_type": "code",
   "execution_count": 8,
   "id": "f331b724",
   "metadata": {},
   "outputs": [
    {
     "ename": "IndexError",
     "evalue": "list index out of range",
     "output_type": "error",
     "traceback": [
      "\u001b[1;31m---------------------------------------------------------------------------\u001b[0m",
      "\u001b[1;31mIndexError\u001b[0m                                Traceback (most recent call last)",
      "Cell \u001b[1;32mIn[8], line 11\u001b[0m\n\u001b[0;32m      7\u001b[0m doc \u001b[38;5;241m=\u001b[39m BeautifulSoup(result\u001b[38;5;241m.\u001b[39mtext,\u001b[38;5;124m\"\u001b[39m\u001b[38;5;124mhtml.parser\u001b[39m\u001b[38;5;124m\"\u001b[39m)\n\u001b[0;32m      9\u001b[0m prices \u001b[38;5;241m=\u001b[39m doc\u001b[38;5;241m.\u001b[39mfind_all(text \u001b[38;5;241m=\u001b[39m \u001b[38;5;124m'\u001b[39m\u001b[38;5;124m$\u001b[39m\u001b[38;5;124m'\u001b[39m)\n\u001b[1;32m---> 11\u001b[0m parent \u001b[38;5;241m=\u001b[39m \u001b[43mprices\u001b[49m\u001b[43m[\u001b[49m\u001b[38;5;241;43m0\u001b[39;49m\u001b[43m]\u001b[49m\u001b[38;5;241m.\u001b[39mparent\n\u001b[0;32m     12\u001b[0m strong \u001b[38;5;241m=\u001b[39m parent\u001b[38;5;241m.\u001b[39mfind(\u001b[38;5;124m\"\u001b[39m\u001b[38;5;124mstrong\u001b[39m\u001b[38;5;124m\"\u001b[39m)\n",
      "\u001b[1;31mIndexError\u001b[0m: list index out of range"
     ]
    }
   ],
   "source": [
    "from bs4 import BeautifulSoup\n",
    "import requests\n",
    "\n",
    "url = \"https://www.newegg.ca/p/3D5-000H-007T4?Item=9SIAJWPJSJ7092&cm_sp=Homepage_SS-_-P1_9SIAJWPJSJ7092-_-04212023\"\n",
    "result = requests.get(url)\n",
    "\n",
    "doc = BeautifulSoup(result.text,\"html.parser\")\n",
    "\n",
    "prices = doc.find_all(text = '$')\n",
    "\n",
    "parent = prices[0].parent\n",
    "strong = parent.find(\"strong\")\n",
    "# print(strong.string)"
   ]
  },
  {
   "cell_type": "code",
   "execution_count": null,
   "id": "8516c559",
   "metadata": {},
   "outputs": [],
   "source": [
    "urls = \"https://12ft.io/proxy?q=https%3A%2F%2Ftowardsdatascience.com%2Fa-step-by-step-guide-to-web-scraping-in-python-5c4d9cef76e8\"\n",
    "\n",
    "r = requests.get(urls)\n",
    "docs = BeautifulSoup(r.text,\"html.parser\")\n",
    "print(docs.prettify())"
   ]
  },
  {
   "cell_type": "code",
   "execution_count": null,
   "id": "0b128f85",
   "metadata": {},
   "outputs": [],
   "source": []
  },
  {
   "cell_type": "markdown",
   "id": "158e6ad6",
   "metadata": {},
   "source": [
    "## 2"
   ]
  },
  {
   "cell_type": "code",
   "execution_count": null,
   "id": "18b25029",
   "metadata": {},
   "outputs": [],
   "source": [
    "from bs4 import BeautifulSoup\n",
    "\n",
    "with open (\"index1.html\", \"r\") as f:\n",
    "    Doc = BeautifulSoup(f,\"html.parser\")\n",
    "    \n",
    "tag = Doc.find(\"option\")\n",
    "\n",
    "# modified\n",
    "tag['selected'] = 'new_value'\n",
    "\n",
    "#adding attributes\n",
    "tag['color'] = 'purple'\n",
    "\n",
    "\n",
    "#see all attributes \n",
    "print(tag.attrs)\n",
    "\n",
    "\n",
    "print(tag)"
   ]
  },
  {
   "cell_type": "code",
   "execution_count": null,
   "id": "87befa46",
   "metadata": {},
   "outputs": [],
   "source": []
  },
  {
   "cell_type": "markdown",
   "id": "c17cd68c",
   "metadata": {},
   "source": [
    "## Find multiple tags"
   ]
  },
  {
   "cell_type": "code",
   "execution_count": null,
   "id": "eab18ce0",
   "metadata": {},
   "outputs": [],
   "source": [
    "from bs4 import BeautifulSoup\n",
    "\n",
    "with open (\"index1.html\", \"r\") as f:\n",
    "    Doc = BeautifulSoup(f,\"html.parser\")\n",
    "    \n",
    "tags = Doc.find(['p','div','a','img','li'])\n",
    "#just pass the list the attributes\n",
    "\n",
    "#for finding with conditions\n",
    "tags = Doc.find_all(['option'] , text = 'Undergraduate'\n",
    "                    ,value= 'undergraduate')\n",
    "\n",
    "\n",
    "print(tags)"
   ]
  },
  {
   "cell_type": "markdown",
   "id": "0c211f07",
   "metadata": {},
   "source": [
    "### Look for different class names "
   ]
  },
  {
   "cell_type": "code",
   "execution_count": null,
   "id": "00d4347a",
   "metadata": {},
   "outputs": [],
   "source": [
    "from bs4 import BeautifulSoup\n",
    "\n",
    "with open (\"index1.html\", \"r\") as f:\n",
    "    Doc = BeautifulSoup(f,\"html.parser\")\n",
    "    \n",
    "classy = Doc.find_all(class_='btn-item')\n",
    "#just pass the list the attributes\n",
    "\n",
    "\n",
    "\n",
    "print(classy)"
   ]
  },
  {
   "cell_type": "markdown",
   "id": "9056e772",
   "metadata": {},
   "source": [
    "### Finding using re expressoion"
   ]
  },
  {
   "cell_type": "code",
   "execution_count": null,
   "id": "7a7b293d",
   "metadata": {},
   "outputs": [],
   "source": [
    "from bs4 import BeautifulSoup\n",
    "import re\n",
    "\n",
    "with open (\"index1.html\", \"r\") as f:\n",
    "    Doc = BeautifulSoup(f,\"html.parser\")\n",
    "reg = Doc.find_all(text = re.compile(\"\\$.*\"))\n",
    "for i in reg:\n",
    "    print(i.strip())"
   ]
  },
  {
   "cell_type": "markdown",
   "id": "95462040",
   "metadata": {},
   "source": [
    "### Limit the search of the result"
   ]
  },
  {
   "cell_type": "code",
   "execution_count": null,
   "id": "9bbff191",
   "metadata": {},
   "outputs": [],
   "source": [
    "from bs4 import BeautifulSoup\n",
    "import re\n",
    "\n",
    "with open (\"index1.html\", \"r\") as f:\n",
    "    Doc = BeautifulSoup(f,\"html.parser\")\n",
    "reg = Doc.find_all(text = re.compile(\"\\$.*\"), limit=1)\n",
    "for i in reg:\n",
    "    print(i)"
   ]
  },
  {
   "cell_type": "markdown",
   "id": "d1a64e36",
   "metadata": {},
   "source": [
    "### Save modifies HTML"
   ]
  },
  {
   "cell_type": "code",
   "execution_count": null,
   "id": "852c0c95",
   "metadata": {},
   "outputs": [],
   "source": [
    "from bs4 import BeautifulSoup\n",
    "import re\n",
    "\n",
    "with open (\"index1.html\", \"r\") as f:\n",
    "    Doc = BeautifulSoup(f,\"html.parser\")\n",
    "mod = Doc.find_all('input' , type = 'text')\n",
    "for i in mod:\n",
    "    i['placeholder'] = \"Enter Here!\"\n",
    "    \n",
    "with open('modified.html','w')as file:\n",
    "    file.write(str(Doc))\n"
   ]
  },
  {
   "cell_type": "code",
   "execution_count": null,
   "id": "3494c917",
   "metadata": {},
   "outputs": [],
   "source": []
  },
  {
   "cell_type": "markdown",
   "id": "a28b3a3f",
   "metadata": {},
   "source": [
    "## Tree Structure"
   ]
  },
  {
   "cell_type": "code",
   "execution_count": null,
   "id": "4f6989ac",
   "metadata": {},
   "outputs": [],
   "source": [
    "from bs4 import BeautifulSoup\n",
    "import requests\n",
    "import re\n",
    "\n",
    "url = 'https://coinmarketcap.com/'\n",
    "result = requests.get(url).text\n",
    "\n",
    "doc = BeautifulSoup(result,\"html.parser\")\n",
    "\n",
    "#To acess the title\n",
    "# print(doc.title)\n",
    "\n",
    "#This code gets the first <b> tag beneath the <body> tag:\n",
    "# print(doc.body.b)\n",
    "\n",
    "\n",
    "#TO get the table body \n",
    "tbody = doc.tbody\n",
    "\n",
    "#it gives the list of tabel rows in tabel body\n",
    "trs = tbody.contents\n",
    "\n",
    "# print(trs)\n",
    "\n",
    "#go forward\n",
    "# print(trs[0].next_sibling)\n",
    "\n",
    "#go back of the tree\n",
    "# print(trs[1].previous_sibling)\n",
    "\n",
    "#This will give the generator object \n",
    "print(trs[0].next_siblings)\n",
    "\n",
    "print(trs[0].parent.name)\n",
    "\n",
    "\n",
    "#Instead of getting them as a list, \n",
    "#you can iterate over a tag’s children using the .children generator:\n"
   ]
  },
  {
   "cell_type": "markdown",
   "id": "995a8dd1",
   "metadata": {},
   "source": [
    "#### The .descendants attribute lets you iterate over all of a tag’s children, recursively: its direct children, the children of its direct children, and so on:"
   ]
  },
  {
   "cell_type": "code",
   "execution_count": null,
   "id": "c660d8a2",
   "metadata": {},
   "outputs": [],
   "source": [
    "print(trs[1].descendants)\n",
    "print(trs[1].contents)\n",
    "print(list(trs[1].children))"
   ]
  },
  {
   "cell_type": "code",
   "execution_count": null,
   "id": "ceb93a95",
   "metadata": {},
   "outputs": [],
   "source": []
  },
  {
   "cell_type": "code",
   "execution_count": null,
   "id": "aaf04c99",
   "metadata": {},
   "outputs": [],
   "source": [
    "prices = {}\n",
    "\n",
    "for tr in trs[:10] :\n",
    "#     for td in tr.contents:\n",
    "    name,price = tr.contents[2:4]\n",
    "    fixed_name = name.p.string\n",
    "    fixed_price = price.span.string\n",
    "    \n",
    "    prices[fixed_name] = fixed_price\n",
    "print(prices)\n",
    "    \n",
    "    "
   ]
  },
  {
   "cell_type": "code",
   "execution_count": null,
   "id": "2db35e4b",
   "metadata": {},
   "outputs": [],
   "source": []
  },
  {
   "cell_type": "code",
   "execution_count": null,
   "id": "e86b80b7",
   "metadata": {},
   "outputs": [],
   "source": []
  },
  {
   "cell_type": "code",
   "execution_count": null,
   "id": "6c0a426f",
   "metadata": {},
   "outputs": [],
   "source": []
  },
  {
   "cell_type": "code",
   "execution_count": null,
   "id": "e4e041de",
   "metadata": {},
   "outputs": [],
   "source": []
  },
  {
   "cell_type": "code",
   "execution_count": null,
   "id": "11959f42",
   "metadata": {},
   "outputs": [],
   "source": []
  },
  {
   "cell_type": "code",
   "execution_count": null,
   "id": "87ff96e8",
   "metadata": {},
   "outputs": [],
   "source": []
  },
  {
   "cell_type": "code",
   "execution_count": null,
   "id": "90ceb920",
   "metadata": {},
   "outputs": [],
   "source": []
  },
  {
   "cell_type": "code",
   "execution_count": null,
   "id": "815a67c2",
   "metadata": {},
   "outputs": [],
   "source": []
  },
  {
   "cell_type": "code",
   "execution_count": null,
   "id": "689044ae",
   "metadata": {},
   "outputs": [],
   "source": []
  },
  {
   "cell_type": "code",
   "execution_count": null,
   "id": "48b130cc",
   "metadata": {},
   "outputs": [],
   "source": []
  },
  {
   "cell_type": "code",
   "execution_count": null,
   "id": "02776844",
   "metadata": {},
   "outputs": [],
   "source": []
  },
  {
   "cell_type": "code",
   "execution_count": null,
   "id": "f5604321",
   "metadata": {},
   "outputs": [],
   "source": []
  },
  {
   "cell_type": "code",
   "execution_count": null,
   "id": "d9adb513",
   "metadata": {},
   "outputs": [],
   "source": []
  },
  {
   "cell_type": "code",
   "execution_count": null,
   "id": "a28d5d84",
   "metadata": {},
   "outputs": [],
   "source": []
  },
  {
   "cell_type": "code",
   "execution_count": null,
   "id": "4d1bc85b",
   "metadata": {},
   "outputs": [],
   "source": []
  }
 ],
 "metadata": {
  "kernelspec": {
   "display_name": "Python 3 (ipykernel)",
   "language": "python",
   "name": "python3"
  },
  "language_info": {
   "codemirror_mode": {
    "name": "ipython",
    "version": 3
   },
   "file_extension": ".py",
   "mimetype": "text/x-python",
   "name": "python",
   "nbconvert_exporter": "python",
   "pygments_lexer": "ipython3",
   "version": "3.9.13"
  },
  "widgets": {
   "application/vnd.jupyter.widget-state+json": {
    "state": {},
    "version_major": 2,
    "version_minor": 0
   }
  }
 },
 "nbformat": 4,
 "nbformat_minor": 5
}
