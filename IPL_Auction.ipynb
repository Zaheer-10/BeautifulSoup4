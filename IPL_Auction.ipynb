{
 "cells": [
  {
   "cell_type": "markdown",
   "id": "0e59f88d",
   "metadata": {},
   "source": [
    "# Scraping Data from TATA IPL Auction 2023 🏆"
   ]
  },
  {
   "cell_type": "markdown",
   "id": "88fca40e",
   "metadata": {},
   "source": [
    "### Import Libraries"
   ]
  },
  {
   "cell_type": "code",
   "execution_count": 1,
   "id": "6f77d147",
   "metadata": {},
   "outputs": [],
   "source": [
    "from bs4 import BeautifulSoup\n",
    "import requests\n",
    "import pandas as pd"
   ]
  },
  {
   "cell_type": "markdown",
   "id": "7c60f615",
   "metadata": {},
   "source": [
    "#### Getting Url "
   ]
  },
  {
   "cell_type": "code",
   "execution_count": 2,
   "id": "6113b385",
   "metadata": {},
   "outputs": [
    {
     "name": "stdout",
     "output_type": "stream",
     "text": [
      "<Response [200]>\n"
     ]
    }
   ],
   "source": [
    "url = 'https://www.iplt20.com/auction'\n",
    "r = requests.get(url)\n",
    "\n",
    "print(r)"
   ]
  },
  {
   "cell_type": "markdown",
   "id": "c8d0d0d3",
   "metadata": {},
   "source": [
    "#### BeautifulSoup"
   ]
  },
  {
   "cell_type": "code",
   "execution_count": 3,
   "id": "cedd60cf",
   "metadata": {
    "scrolled": true
   },
   "outputs": [],
   "source": [
    "soup = BeautifulSoup(r.content , 'html.parser')\n",
    "\n",
    "# print(soup.prettify())"
   ]
  },
  {
   "cell_type": "markdown",
   "id": "6bf7aa8f",
   "metadata": {},
   "source": [
    "#### Reading tabel | Header etc.."
   ]
  },
  {
   "cell_type": "code",
   "execution_count": 49,
   "id": "6f287708",
   "metadata": {},
   "outputs": [
    {
     "data": {
      "text/html": [
       "<div>\n",
       "<style scoped>\n",
       "    .dataframe tbody tr th:only-of-type {\n",
       "        vertical-align: middle;\n",
       "    }\n",
       "\n",
       "    .dataframe tbody tr th {\n",
       "        vertical-align: top;\n",
       "    }\n",
       "\n",
       "    .dataframe thead th {\n",
       "        text-align: right;\n",
       "    }\n",
       "</style>\n",
       "<table border=\"1\" class=\"dataframe\">\n",
       "  <thead>\n",
       "    <tr style=\"text-align: right;\">\n",
       "      <th></th>\n",
       "      <th>TEAM</th>\n",
       "      <th>FUNDS REMAINING</th>\n",
       "      <th>OVERSEAS PLAYERS</th>\n",
       "      <th>TOTAL PLAYERS</th>\n",
       "    </tr>\n",
       "  </thead>\n",
       "  <tbody>\n",
       "    <tr>\n",
       "      <th>0</th>\n",
       "      <td>Chennai Super Kings</td>\n",
       "      <td>₹1,50,00,000</td>\n",
       "      <td>8</td>\n",
       "      <td>25</td>\n",
       "    </tr>\n",
       "    <tr>\n",
       "      <th>1</th>\n",
       "      <td>Delhi Capitals</td>\n",
       "      <td>₹4,45,00,000</td>\n",
       "      <td>8</td>\n",
       "      <td>25</td>\n",
       "    </tr>\n",
       "    <tr>\n",
       "      <th>2</th>\n",
       "      <td>Gujarat Titans</td>\n",
       "      <td>₹4,45,00,000</td>\n",
       "      <td>8</td>\n",
       "      <td>25</td>\n",
       "    </tr>\n",
       "    <tr>\n",
       "      <th>3</th>\n",
       "      <td>Kolkata Knight Riders</td>\n",
       "      <td>₹1,65,00,000</td>\n",
       "      <td>8</td>\n",
       "      <td>22</td>\n",
       "    </tr>\n",
       "    <tr>\n",
       "      <th>4</th>\n",
       "      <td>Lucknow Super Giants</td>\n",
       "      <td>₹3,55,00,000</td>\n",
       "      <td>8</td>\n",
       "      <td>25</td>\n",
       "    </tr>\n",
       "    <tr>\n",
       "      <th>5</th>\n",
       "      <td>Mumbai Indians</td>\n",
       "      <td>₹5,00,000</td>\n",
       "      <td>8</td>\n",
       "      <td>24</td>\n",
       "    </tr>\n",
       "    <tr>\n",
       "      <th>6</th>\n",
       "      <td>Punjab Kings</td>\n",
       "      <td>₹12,20,00,000</td>\n",
       "      <td>7</td>\n",
       "      <td>22</td>\n",
       "    </tr>\n",
       "    <tr>\n",
       "      <th>7</th>\n",
       "      <td>Rajasthan Royals</td>\n",
       "      <td>₹3,35,00,000</td>\n",
       "      <td>8</td>\n",
       "      <td>25</td>\n",
       "    </tr>\n",
       "    <tr>\n",
       "      <th>8</th>\n",
       "      <td>Royal Challengers Bangalore</td>\n",
       "      <td>₹1,75,00,000</td>\n",
       "      <td>8</td>\n",
       "      <td>25</td>\n",
       "    </tr>\n",
       "    <tr>\n",
       "      <th>9</th>\n",
       "      <td>Sunrisers Hyderabad</td>\n",
       "      <td>₹6,55,00,000</td>\n",
       "      <td>8</td>\n",
       "      <td>25</td>\n",
       "    </tr>\n",
       "  </tbody>\n",
       "</table>\n",
       "</div>"
      ],
      "text/plain": [
       "                          TEAM FUNDS REMAINING OVERSEAS PLAYERS  TOTAL PLAYERS\n",
       "0          Chennai Super Kings    ₹1,50,00,000                 8            25\n",
       "1               Delhi Capitals    ₹4,45,00,000                 8            25\n",
       "2               Gujarat Titans    ₹4,45,00,000                 8            25\n",
       "3        Kolkata Knight Riders    ₹1,65,00,000                 8            22\n",
       "4         Lucknow Super Giants    ₹3,55,00,000                 8            25\n",
       "5               Mumbai Indians       ₹5,00,000                 8            24\n",
       "6                 Punjab Kings   ₹12,20,00,000                 7            22\n",
       "7             Rajasthan Royals    ₹3,35,00,000                 8            25\n",
       "8  Royal Challengers Bangalore    ₹1,75,00,000                 8            25\n",
       "9          Sunrisers Hyderabad    ₹6,55,00,000                 8            25"
      ]
     },
     "execution_count": 49,
     "metadata": {},
     "output_type": "execute_result"
    }
   ],
   "source": [
    "\n",
    "table = soup.find('table' , class_='ih-td-tab auction-tbl')\n",
    "\n",
    "header = table.find_all('th' , class_='skip-filter')\n",
    "\n",
    "Titles =[i.text for i in header]\n",
    "\n",
    "df = pd.DataFrame(columns=Titles)\n",
    "\n",
    "#### Finding each rows from table row tr\n",
    "rows =  tabel.find_all('tr')\n",
    "\n",
    "for i in rows[1:]:\n",
    "    first_td = i.find_all('td')[0].find('div' , class_='ih-pt-ic').text.strip() # to remove \\n\n",
    "    data = i.find_all('td')[1:]\n",
    "    each_row_data = [tr.text for tr in data]\n",
    "    each_row_data.insert(0,first_td)\n",
    "    l = len(df)\n",
    "    df.loc[l] = each_row_data\n",
    "    \n",
    "    \n",
    "df"
   ]
  },
  {
   "cell_type": "markdown",
   "id": "5c07adcb",
   "metadata": {},
   "source": [
    "#### saving as csv "
   ]
  },
  {
   "cell_type": "code",
   "execution_count": 51,
   "id": "255dbf36",
   "metadata": {},
   "outputs": [],
   "source": [
    "df.to_csv('TATA_IPL_Auction_2023.csv')"
   ]
  },
  {
   "cell_type": "markdown",
   "id": "1110a48c",
   "metadata": {},
   "source": [
    "#### Downloading as PDF"
   ]
  },
  {
   "cell_type": "code",
   "execution_count": 57,
   "id": "b34f6072",
   "metadata": {},
   "outputs": [
    {
     "name": "stderr",
     "output_type": "stream",
     "text": [
      "[NbConvertApp] Converting notebook IPL_Auction.ipynb to webpdf\n",
      "[NbConvertApp] Building PDF\n",
      "[NbConvertApp] PDF successfully created\n",
      "[NbConvertApp] Writing 218881 bytes to IPL_Auction.pdf\n"
     ]
    }
   ],
   "source": [
    "!jupyter nbconvert --to webpdf --allow-chromium-download IPL_Auction.ipynb"
   ]
  },
  {
   "cell_type": "markdown",
   "id": "ea1fa746",
   "metadata": {},
   "source": [
    "#### <------------------ END----------------------->\n"
   ]
  }
 ],
 "metadata": {
  "kernelspec": {
   "display_name": "Python 3 (ipykernel)",
   "language": "python",
   "name": "python3"
  },
  "language_info": {
   "codemirror_mode": {
    "name": "ipython",
    "version": 3
   },
   "file_extension": ".py",
   "mimetype": "text/x-python",
   "name": "python",
   "nbconvert_exporter": "python",
   "pygments_lexer": "ipython3",
   "version": "3.9.13"
  }
 },
 "nbformat": 4,
 "nbformat_minor": 5
}
