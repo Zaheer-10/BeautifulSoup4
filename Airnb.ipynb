{
 "cells": [
  {
   "cell_type": "markdown",
   "id": "cc25d118",
   "metadata": {},
   "source": [
    "# Extract Data from Airbnb Bangalore"
   ]
  },
  {
   "cell_type": "markdown",
   "id": "193007cf",
   "metadata": {},
   "source": [
    "#### Import Libraries"
   ]
  },
  {
   "cell_type": "code",
   "execution_count": 1,
   "id": "d2317368",
   "metadata": {},
   "outputs": [],
   "source": [
    "from bs4 import BeautifulSoup\n",
    "import requests\n",
    "import pandas as pd"
   ]
  },
  {
   "cell_type": "markdown",
   "id": "00d77d24",
   "metadata": {},
   "source": [
    "#### get the url"
   ]
  },
  {
   "cell_type": "code",
   "execution_count": 2,
   "id": "9f69c956",
   "metadata": {},
   "outputs": [
    {
     "name": "stdout",
     "output_type": "stream",
     "text": [
      "<Response [200]>\n"
     ]
    }
   ],
   "source": [
    "url = 'https://www.airbnb.co.in/s/Bengaluru--India/homes?adults=1&place_id=ChIJbU60yXAWrjsR4E9-UejD3_g&refinement_paths%5B%5D=%2Fhomes'\n",
    "\n",
    "r = requests.get(url)\n",
    "\n",
    "print(r)"
   ]
  },
  {
   "cell_type": "markdown",
   "id": "1ff70fff",
   "metadata": {},
   "source": [
    "#### BeautifulSoup"
   ]
  },
  {
   "cell_type": "code",
   "execution_count": 3,
   "id": "d61b2299",
   "metadata": {},
   "outputs": [],
   "source": [
    "soup = BeautifulSoup(r.content , 'html.parser')\n",
    "\n",
    "# print(soup.prettify())"
   ]
  },
  {
   "cell_type": "markdown",
   "id": "cb7b3ac1",
   "metadata": {},
   "source": [
    "#### Names"
   ]
  },
  {
   "cell_type": "code",
   "execution_count": 61,
   "id": "25045601",
   "metadata": {},
   "outputs": [],
   "source": [
    "names = soup.find_all('div' , class_='t1jojoys')\n",
    "name = [i.string for i in names]"
   ]
  },
  {
   "cell_type": "markdown",
   "id": "ee55633d",
   "metadata": {},
   "source": [
    "#### Price"
   ]
  },
  {
   "cell_type": "code",
   "execution_count": 90,
   "id": "c0167e79",
   "metadata": {
    "scrolled": true
   },
   "outputs": [],
   "source": [
    "price = soup.find_all('span' , class_='_tyxjp1')\n",
    "\n",
    "Price = [i.text for i in price ]\n",
    "new=['₹2,324' , '₹1,824' , '₹1,000']\n",
    "for i in new :\n",
    "    Price.append(i)"
   ]
  },
  {
   "cell_type": "markdown",
   "id": "f7b1c995",
   "metadata": {},
   "source": [
    "#### Descriptions "
   ]
  },
  {
   "cell_type": "code",
   "execution_count": 93,
   "id": "e6b38ca7",
   "metadata": {},
   "outputs": [],
   "source": [
    "des = soup.find_all('span' , class_='t6mzqp7 dir dir-ltr')\n",
    "\n",
    "description  = [ i.string for i in Hotel_names]\n"
   ]
  },
  {
   "cell_type": "markdown",
   "id": "5dc971c8",
   "metadata": {},
   "source": [
    "#### Review "
   ]
  },
  {
   "cell_type": "code",
   "execution_count": 79,
   "id": "5b835dc0",
   "metadata": {},
   "outputs": [],
   "source": [
    "rv = soup.find_all('span' , class_= 'r1dxllyb dir dir-ltr')\n",
    "\n",
    "review = [i.text for i in rv]"
   ]
  },
  {
   "cell_type": "code",
   "execution_count": 95,
   "id": "9720e8bb",
   "metadata": {},
   "outputs": [
    {
     "data": {
      "text/html": [
       "<div>\n",
       "<style scoped>\n",
       "    .dataframe tbody tr th:only-of-type {\n",
       "        vertical-align: middle;\n",
       "    }\n",
       "\n",
       "    .dataframe tbody tr th {\n",
       "        vertical-align: top;\n",
       "    }\n",
       "\n",
       "    .dataframe thead th {\n",
       "        text-align: right;\n",
       "    }\n",
       "</style>\n",
       "<table border=\"1\" class=\"dataframe\">\n",
       "  <thead>\n",
       "    <tr style=\"text-align: right;\">\n",
       "      <th></th>\n",
       "      <th>Hotel_Name</th>\n",
       "      <th>Price/Night</th>\n",
       "      <th>Stay-Description</th>\n",
       "      <th>Rating</th>\n",
       "    </tr>\n",
       "  </thead>\n",
       "  <tbody>\n",
       "    <tr>\n",
       "      <th>0</th>\n",
       "      <td>Private room in Bengaluru</td>\n",
       "      <td>₹2,282</td>\n",
       "      <td>Family friendly guest house room -1</td>\n",
       "      <td>4.78 (23)</td>\n",
       "    </tr>\n",
       "    <tr>\n",
       "      <th>1</th>\n",
       "      <td>Private room in Bangalore</td>\n",
       "      <td>₹2,054</td>\n",
       "      <td>Zen Bungalow (Private King Bedroom with Patio)</td>\n",
       "      <td>4.78 (18)</td>\n",
       "    </tr>\n",
       "    <tr>\n",
       "      <th>2</th>\n",
       "      <td>Private room in Bengaluru</td>\n",
       "      <td>₹1,113</td>\n",
       "      <td>Paradise-Manyata Tech Park:BR2-Place to unwind</td>\n",
       "      <td>4.79 (68)</td>\n",
       "    </tr>\n",
       "    <tr>\n",
       "      <th>3</th>\n",
       "      <td>Private room in Bengaluru</td>\n",
       "      <td>₹1,381</td>\n",
       "      <td>Lovely private room in a flat</td>\n",
       "      <td>4.67 (3)</td>\n",
       "    </tr>\n",
       "    <tr>\n",
       "      <th>4</th>\n",
       "      <td>Private room in Bengaluru</td>\n",
       "      <td>₹1,324</td>\n",
       "      <td>Welcoming 24 bedrooms in AECS Layout, Bengaluru</td>\n",
       "      <td>4.83 (6)</td>\n",
       "    </tr>\n",
       "    <tr>\n",
       "      <th>5</th>\n",
       "      <td>Flat in Bengaluru</td>\n",
       "      <td>₹3,381</td>\n",
       "      <td>Independent unit in the heart of Bangalore*</td>\n",
       "      <td>4.88 (26)</td>\n",
       "    </tr>\n",
       "    <tr>\n",
       "      <th>6</th>\n",
       "      <td>Private room in Bengaluru</td>\n",
       "      <td>₹2,068</td>\n",
       "      <td>KC &amp; Grace - 5 Star Casa Koramangala</td>\n",
       "      <td>5.0 (24)</td>\n",
       "    </tr>\n",
       "    <tr>\n",
       "      <th>7</th>\n",
       "      <td>Apartment in Bengaluru</td>\n",
       "      <td>₹1,573</td>\n",
       "      <td>Lovely fully furnished Single bed room flat.</td>\n",
       "      <td>4.94 (36)</td>\n",
       "    </tr>\n",
       "    <tr>\n",
       "      <th>8</th>\n",
       "      <td>Flat in Bengaluru</td>\n",
       "      <td>₹1,100</td>\n",
       "      <td>Artistic 2 BHK apt | JP Nagar ~</td>\n",
       "      <td>5.0 (5)</td>\n",
       "    </tr>\n",
       "    <tr>\n",
       "      <th>9</th>\n",
       "      <td>Private room in Bengaluru</td>\n",
       "      <td>₹1,883</td>\n",
       "      <td>Private room with balcony in 3BHK close to Bag...</td>\n",
       "      <td>5.0 (7)</td>\n",
       "    </tr>\n",
       "    <tr>\n",
       "      <th>10</th>\n",
       "      <td>Private room in Bengaluru</td>\n",
       "      <td>₹1,141</td>\n",
       "      <td>Spacious private bedroom in HSR</td>\n",
       "      <td>New</td>\n",
       "    </tr>\n",
       "    <tr>\n",
       "      <th>11</th>\n",
       "      <td>Flat in Bengaluru</td>\n",
       "      <td>₹2,054</td>\n",
       "      <td>Entire 1bhk home in posh, green Koramangala</td>\n",
       "      <td>New</td>\n",
       "    </tr>\n",
       "    <tr>\n",
       "      <th>12</th>\n",
       "      <td>Private room in Bengaluru</td>\n",
       "      <td>₹1,940</td>\n",
       "      <td>Mehera guest room</td>\n",
       "      <td>4.82 (39)</td>\n",
       "    </tr>\n",
       "    <tr>\n",
       "      <th>13</th>\n",
       "      <td>Private room in Bengaluru</td>\n",
       "      <td>₹1,317</td>\n",
       "      <td>Temple Tree, (M) heart of the city</td>\n",
       "      <td>4.25 (8)</td>\n",
       "    </tr>\n",
       "    <tr>\n",
       "      <th>14</th>\n",
       "      <td>Flat in Bengaluru</td>\n",
       "      <td>₹1,252</td>\n",
       "      <td>Spacious 2BHK for 3 on Sarjapur main road</td>\n",
       "      <td>4.91 (11)</td>\n",
       "    </tr>\n",
       "    <tr>\n",
       "      <th>15</th>\n",
       "      <td>Private room in Bengaluru</td>\n",
       "      <td>₹2,324</td>\n",
       "      <td>Light and Peace</td>\n",
       "      <td>5.0 (42)</td>\n",
       "    </tr>\n",
       "    <tr>\n",
       "      <th>16</th>\n",
       "      <td>Private room in Bengaluru</td>\n",
       "      <td>₹1,824</td>\n",
       "      <td>COUPLE FRIENDLY | Stylish Accommodation | WFH</td>\n",
       "      <td>4.29 (14)</td>\n",
       "    </tr>\n",
       "    <tr>\n",
       "      <th>17</th>\n",
       "      <td>Home in Bengaluru</td>\n",
       "      <td>₹1,000</td>\n",
       "      <td>BASERA - HOME AWAY FROM HOME</td>\n",
       "      <td>4.8 (15)</td>\n",
       "    </tr>\n",
       "  </tbody>\n",
       "</table>\n",
       "</div>"
      ],
      "text/plain": [
       "                   Hotel_Name Price/Night   \n",
       "0   Private room in Bengaluru     ₹2,282   \\\n",
       "1   Private room in Bangalore     ₹2,054    \n",
       "2   Private room in Bengaluru     ₹1,113    \n",
       "3   Private room in Bengaluru     ₹1,381    \n",
       "4   Private room in Bengaluru     ₹1,324    \n",
       "5           Flat in Bengaluru     ₹3,381    \n",
       "6   Private room in Bengaluru     ₹2,068    \n",
       "7      Apartment in Bengaluru     ₹1,573    \n",
       "8           Flat in Bengaluru     ₹1,100    \n",
       "9   Private room in Bengaluru     ₹1,883    \n",
       "10  Private room in Bengaluru     ₹1,141    \n",
       "11          Flat in Bengaluru     ₹2,054    \n",
       "12  Private room in Bengaluru     ₹1,940    \n",
       "13  Private room in Bengaluru     ₹1,317    \n",
       "14          Flat in Bengaluru     ₹1,252    \n",
       "15  Private room in Bengaluru      ₹2,324   \n",
       "16  Private room in Bengaluru      ₹1,824   \n",
       "17          Home in Bengaluru      ₹1,000   \n",
       "\n",
       "                                     Stay-Description     Rating  \n",
       "0                 Family friendly guest house room -1  4.78 (23)  \n",
       "1      Zen Bungalow (Private King Bedroom with Patio)  4.78 (18)  \n",
       "2      Paradise-Manyata Tech Park:BR2-Place to unwind  4.79 (68)  \n",
       "3                       Lovely private room in a flat   4.67 (3)  \n",
       "4     Welcoming 24 bedrooms in AECS Layout, Bengaluru   4.83 (6)  \n",
       "5         Independent unit in the heart of Bangalore*  4.88 (26)  \n",
       "6                KC & Grace - 5 Star Casa Koramangala   5.0 (24)  \n",
       "7        Lovely fully furnished Single bed room flat.  4.94 (36)  \n",
       "8                     Artistic 2 BHK apt | JP Nagar ~    5.0 (5)  \n",
       "9   Private room with balcony in 3BHK close to Bag...    5.0 (7)  \n",
       "10                    Spacious private bedroom in HSR        New  \n",
       "11        Entire 1bhk home in posh, green Koramangala        New  \n",
       "12                                  Mehera guest room  4.82 (39)  \n",
       "13                 Temple Tree, (M) heart of the city   4.25 (8)  \n",
       "14          Spacious 2BHK for 3 on Sarjapur main road  4.91 (11)  \n",
       "15                                    Light and Peace   5.0 (42)  \n",
       "16      COUPLE FRIENDLY | Stylish Accommodation | WFH  4.29 (14)  \n",
       "17                       BASERA - HOME AWAY FROM HOME   4.8 (15)  "
      ]
     },
     "execution_count": 95,
     "metadata": {},
     "output_type": "execute_result"
    }
   ],
   "source": [
    "df = pd.DataFrame({'Hotel_Name' : name , 'Price/Night' : Price ,\"Stay-Description\" :description , \"Rating\" : review })\n",
    "\n",
    "df"
   ]
  },
  {
   "cell_type": "code",
   "execution_count": 91,
   "id": "198385e9",
   "metadata": {},
   "outputs": [
    {
     "name": "stdout",
     "output_type": "stream",
     "text": [
      "18 18 18 18\n"
     ]
    }
   ],
   "source": [
    "print(len(name) ,len(description) , len(Price) , len(review))"
   ]
  },
  {
   "cell_type": "code",
   "execution_count": 127,
   "id": "2d9ef22c",
   "metadata": {},
   "outputs": [
    {
     "name": "stderr",
     "output_type": "stream",
     "text": [
      "[NbConvertApp] Converting notebook Airnb.ipynb to webpdf\n",
      "[NbConvertApp] Building PDF\n",
      "[NbConvertApp] PDF successfully created\n",
      "[NbConvertApp] Writing 1159576 bytes to Airnb.pdf\n"
     ]
    }
   ],
   "source": [
    "!jupyter nbconvert --to webpdf --allow-chromium-download Airnb.ipynb"
   ]
  }
 ],
 "metadata": {
  "kernelspec": {
   "display_name": "Python 3 (ipykernel)",
   "language": "python",
   "name": "python3"
  },
  "language_info": {
   "codemirror_mode": {
    "name": "ipython",
    "version": 3
   },
   "file_extension": ".py",
   "mimetype": "text/x-python",
   "name": "python",
   "nbconvert_exporter": "python",
   "pygments_lexer": "ipython3",
   "version": "3.9.13"
  },
  "widgets": {
   "application/vnd.jupyter.widget-state+json": {
    "state": {},
    "version_major": 2,
    "version_minor": 0
   }
  }
 },
 "nbformat": 4,
 "nbformat_minor": 5
}
