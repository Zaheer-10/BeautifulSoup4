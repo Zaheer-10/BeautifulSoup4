{
 "cells": [
  {
   "cell_type": "markdown",
   "id": "37dbb6f5-15bb-474f-962c-03469cf1a935",
   "metadata": {},
   "source": [
    "### Python BeautifulSoup: Find the title tags from a given html document"
   ]
  },
  {
   "cell_type": "code",
   "execution_count": null,
   "id": "e2fb30fe-7f3a-4099-8c37-73906fda082f",
   "metadata": {},
   "outputs": [],
   "source": [
    "html = \"\"\"\n",
    "<html>\n",
    "<head>\n",
    "<meta http-equiv=\"Content-Type\" content=\"text/html;\n",
    "charset=iso-8859-1\">\n",
    "<title>An example of HTML page</title>\n",
    "</head>\n",
    "<body>\n",
    "<h2>This is an example HTML page</h2>\n",
    "<p>\n",
    "Lorem ipsum dolor sit amet, consectetur adipiscing elit. Nunc at nisi velit,\n",
    "aliquet iaculis est. Curabitur porttitor nisi vel lacus euismod egestas. In hac\n",
    "habitasse platea dictumst. In sagittis magna eu odio interdum mollis. Phasellus\n",
    "sagittis pulvinar facilisis. Donec vel odio volutpat tortor volutpat commodo.\n",
    "Donec vehicula vulputate sem, vel iaculis urna molestie eget. Sed pellentesque\n",
    "adipiscing tortor, at condimentum elit elementum sed. Mauris dignissim\n",
    "elementum nunc, non elementum felis condimentum eu. In in turpis quis erat\n",
    "imperdiet vulputate. Pellentesque mauris turpis, dignissim sed iaculis eu,\n",
    "euismod eget ipsum. Vivamus mollis adipiscing viverra. Morbi at sem eget nisl\n",
    "euismod porta.</p>\n",
    "<p><a href=\"https://www.w3resource.com/html/HTML-tutorials.php\">Learn HTML from\n",
    "w3resource.com</a></p>\n",
    "<p><a href=\"https://www.w3resource.com/css/CSS-tutorials.php\">Learn CSS from \n",
    "w3resource.com</a></p>\n",
    "</body>\n",
    "</html>\n",
    "\"\"\""
   ]
  },
  {
   "cell_type": "code",
   "execution_count": null,
   "id": "dcd71a0a-6f59-4fb4-a2d3-dda0a33c0616",
   "metadata": {},
   "outputs": [],
   "source": [
    "from bs4 import  BeautifulSoup\n",
    "\n",
    "soup = BeautifulSoup(html , 'html.parser')\n",
    "print(\"Title of the document:\")\n",
    "print(soup.title.string)"
   ]
  },
  {
   "cell_type": "markdown",
   "id": "b09f4476-50d5-416a-adb9-9ec77e4ca91b",
   "metadata": {},
   "source": [
    "### Write a Python program to retrieve all the paragraph tags from a given html document"
   ]
  },
  {
   "cell_type": "code",
   "execution_count": null,
   "id": "854eaf26-23c4-41ad-a1a1-74f5d2e66891",
   "metadata": {},
   "outputs": [],
   "source": [
    "print(\"All paragraph tags:\")\n",
    "print(soup.find_all('p'))"
   ]
  },
  {
   "cell_type": "markdown",
   "id": "68bb7b7a-9e3c-43b4-97c3-9a8de2d22dd2",
   "metadata": {},
   "source": [
    "### 3. Write a Python program to get the number of paragraph tags of a given html document"
   ]
  },
  {
   "cell_type": "code",
   "execution_count": null,
   "id": "16c009d1-27ec-45df-bc5c-ab00f5f1861a",
   "metadata": {},
   "outputs": [],
   "source": [
    "para = soup.find_all('p')\n",
    "print(len(para))"
   ]
  },
  {
   "cell_type": "markdown",
   "id": "c18570c8-c25d-433b-b7fa-81c434e4b032",
   "metadata": {},
   "source": [
    "### 4. Write a Python program to extract the text in the first paragraph tag of a given html document."
   ]
  },
  {
   "cell_type": "code",
   "execution_count": null,
   "id": "5d19a150-f606-494d-bf91-a17626753cd4",
   "metadata": {},
   "outputs": [],
   "source": [
    "print(soup.find('p'))"
   ]
  },
  {
   "cell_type": "code",
   "execution_count": null,
   "id": "b4ceb452-6bfb-447b-a06a-ab725edae1f1",
   "metadata": {},
   "outputs": [],
   "source": [
    "print(soup.find_all('p')[0].text)"
   ]
  },
  {
   "cell_type": "markdown",
   "id": "a53ef97f-abbf-40f3-bc2d-00b759927b02",
   "metadata": {},
   "source": [
    "<p>###&nbsp; 5. Write a Python program to find the text of the firs a tag of a given html text.</p>"
   ]
  },
  {
   "cell_type": "code",
   "execution_count": null,
   "id": "bf99cfc6-1171-49b4-84e3-af4707a83201",
   "metadata": {},
   "outputs": [],
   "source": [
    "soup.find('a')"
   ]
  },
  {
   "cell_type": "markdown",
   "id": "707db60c-060f-4f33-a724-0d30a4ce22b6",
   "metadata": {},
   "source": [
    "### 6.Write a Python program to extract all the URLs from the webpage python.org that are nested within <li> tags from "
   ]
  },
  {
   "cell_type": "code",
   "execution_count": null,
   "id": "47126df8-1ed9-40c0-8173-061abc1990fa",
   "metadata": {},
   "outputs": [],
   "source": [
    "import re\n",
    "soup.find('a').string"
   ]
  },
  {
   "cell_type": "markdown",
   "id": "3e4f5900-4827-4c6c-98e5-3067a7ece3e4",
   "metadata": {},
   "source": [
    "### Extract the reviews"
   ]
  },
  {
   "cell_type": "code",
   "execution_count": 19,
   "id": "106a7c99-4840-4d02-bdf4-8a45e82446cf",
   "metadata": {},
   "outputs": [
    {
     "name": "stdout",
     "output_type": "stream",
     "text": [
      "No quality voicesNo feting\n",
      "Good\n",
      "The media could not be loaded.\n",
      "                \n",
      "\n",
      "\n",
      "\n",
      " SuperSmart\n",
      "I like  this product\n",
      "Charger just after 3 time use not working and heating if connected to plug\n",
      "Features good but no calling option to lift or make calls from watch .\n",
      "Its is value for money\n",
      "The media could not be loaded.\n",
      "                \n",
      "\n",
      "\n",
      "\n",
      " Pasand hai lekin bahut\n",
      "It's tiny specially can be look great on tiny wrist, look is also nice but internal feature is some down it must be upgrated.\n",
      "Battery bakup is bad\n"
     ]
    }
   ],
   "source": [
    "import requests\n",
    "from bs4 import BeautifulSoup\n",
    "\n",
    "# Send a GET request to the website\n",
    "url = \"https://www.amazon.in/Tokdis-MX-1-Bluetooth-Calling-Smartwatch/product-reviews/B0B82YGCF6/ref=cm_cr_dp_d_show_all_btm?ie=UTF8&reviewerType=all_reviews\"\n",
    "response = requests.get(url)\n",
    "\n",
    "# Use Beautiful Soup to parse the HTML content\n",
    "soup = BeautifulSoup(response.content, 'html.parser')\n",
    "\n",
    "# Find all the review text elements on the page\n",
    "reviews = soup.find_all('span', {'class': 'review-text-content'})\n",
    "\n",
    "# Extract the text of each review\n",
    "for review in reviews:\n",
    "    print(review.text.strip())\n"
   ]
  },
  {
   "cell_type": "markdown",
   "id": "454c33c9-1d75-411b-8238-1fad55b7785c",
   "metadata": {},
   "source": [
    "## Extract reviews 2"
   ]
  },
  {
   "cell_type": "code",
   "execution_count": 32,
   "id": "29af9999-0e2b-4e7a-ae7b-4c38cc03aa4a",
   "metadata": {},
   "outputs": [],
   "source": [
    "import requests\n",
    "from bs4 import BeautifulSoup\n",
    "\n",
    "url = 'https://www.amazon.in/Samsung-inch-Bezel-Flicker-Monitor-LF24T350FHWXXL/dp/B08J82K4GX/ref=lp_1375425031_1_2?sbo=RZvfv%2F%2FHxDF%2BO5021pAnSA%3D%3D&th=1'\n",
    "\n",
    "response = requests.get(url)\n",
    "\n",
    "soup = BeautifulSoup(response.content , 'html.parser')\n",
    "\n",
    "reviews = soup.find(id = 'cm-cr-dp-review-list')\n",
    "\n",
    "# for i in reviews:\n",
    "#     print(i.string.strip())\n",
    "\n",
    "reviews"
   ]
  },
  {
   "cell_type": "code",
   "execution_count": 64,
   "id": "31fb3a7c-6201-45cc-a017-3327200fba1a",
   "metadata": {},
   "outputs": [
    {
     "name": "stdout",
     "output_type": "stream",
     "text": [
      "Amazon.in\n",
      "<!DOCTYPE html>\n",
      "<!--[if lt IE 7]> <html lang=\"en-us\" class=\"a-no-js a-lt-ie9 a-lt-ie8 a-lt-ie7\"> <![endif]-->\n",
      "<!--[if IE 7]>    <html lang=\"en-us\" class=\"a-no-js a-lt-ie9 a-lt-ie8\"> <![endif]-->\n",
      "<!--[if IE 8]>    <html lang=\"en-us\" class=\"a-no-js a-lt-ie9\"> <![endif]-->\n",
      "<!--[if gt IE 8]><!-->\n",
      "<html class=\"a-no-js\" lang=\"en-us\">\n",
      " <!--<![endif]-->\n",
      " <head>\n",
      "  <meta content=\"text/html; charset=utf-8\" http-equiv=\"content-type\"/>\n",
      "  <meta charset=\"utf-8\"/>\n",
      "  <meta content=\"IE=edge,chrome=1\" http-equiv=\"X-UA-Compatible\"/>\n",
      "  <title dir=\"ltr\">\n",
      "   Amazon.in\n",
      "  </title>\n",
      "  <meta content=\"width=device-width\" name=\"viewport\"/>\n",
      "  <link href=\"https://images-na.ssl-images-amazon.com/images/G/01/AUIClients/AmazonUI-3c913031596ca78a3768f4e934b1cc02ce238101.secure.min._V1_.css\" rel=\"stylesheet\"/>\n",
      "  <script>\n",
      "   if (true === true) {\n",
      "    var ue_t0 = (+ new Date()),\n",
      "        ue_csm = window,\n",
      "        ue = { t0: ue_t0, d: function() { return (+new Date() - ue_t0); } },\n",
      "        ue_furl = \"fls-eu.amazon.in\",\n",
      "        ue_mid = \"A21TJRUUN4KGV\",\n",
      "        ue_sid = (document.cookie.match(/session-id=([0-9-]+)/) || [])[1],\n",
      "        ue_sn = \"opfcaptcha.amazon.in\",\n",
      "        ue_id = '9ZH74XQRZ2YBE5EAWT31';\n",
      "}\n",
      "  </script>\n",
      " </head>\n",
      " <body>\n",
      "  <!--\n",
      "        To discuss automated access to Amazon data please contact api-services-support@amazon.com.\n",
      "        For information about migrating to our APIs refer to our Marketplace APIs at https://developer.amazonservices.in/ref=rm_c_sv, or our Product Advertising API at https://affiliate-program.amazon.in/gp/advertising/api/detail/main.html/ref=rm_c_ac for advertising use cases.\n",
      "-->\n",
      "  <!--\n",
      "Correios.DoNotSend\n",
      "-->\n",
      "  <div class=\"a-container a-padding-double-large\" style=\"min-width:350px;padding:44px 0 !important\">\n",
      "   <div class=\"a-row a-spacing-double-large\" style=\"width: 350px; margin: 0 auto\">\n",
      "    <div class=\"a-row a-spacing-medium a-text-center\">\n",
      "     <i class=\"a-icon a-logo\">\n",
      "     </i>\n",
      "    </div>\n",
      "    <div class=\"a-box a-alert a-alert-info a-spacing-base\">\n",
      "     <div class=\"a-box-inner\">\n",
      "      <i class=\"a-icon a-icon-alert\">\n",
      "      </i>\n",
      "      <h4>\n",
      "       Enter the characters you see below\n",
      "      </h4>\n",
      "      <p class=\"a-last\">\n",
      "       Sorry, we just need to make sure you're not a robot. For best results, please make sure your browser is accepting cookies.\n",
      "      </p>\n",
      "     </div>\n",
      "    </div>\n",
      "    <div class=\"a-section\">\n",
      "     <div class=\"a-box a-color-offset-background\">\n",
      "      <div class=\"a-box-inner a-padding-extra-large\">\n",
      "       <form action=\"/errors/validateCaptcha\" method=\"get\" name=\"\">\n",
      "        <input name=\"amzn\" type=\"hidden\" value=\"ZevjpATsNmg8X5gLNZH+6Q==\"/>\n",
      "        <input name=\"amzn-r\" type=\"hidden\" value=\"/Ultra-Wireless-smartwatch-Bluetooth-Monitoring/dp/B0BR5PPB9R/ref=pd_rhf_d_dp_s_pop_multi_srecs_sabr_cn_sccl_1_4/258-0162543-5168940?pd_rd_w=qBjwN&amp;content-id=amzn1.sym.c7348e78-1eb9-4979-badd-8730a8d65185&amp;pf_rd_p=c7348e78-1eb9-4979-badd-8730a8d65185&amp;pf_rd_r=HSS7GADF5J77RA8K3SYZ&amp;pd_rd_wg=Mi5PE&amp;pd_rd_r=a608e3a7-9eed-4bbc-8bd4-dcf36a6ede22&amp;pd_rd_i=B0BR5PPB9R&amp;psc=1\"/>\n",
      "        <div class=\"a-row a-spacing-large\">\n",
      "         <div class=\"a-box\">\n",
      "          <div class=\"a-box-inner\">\n",
      "           <h4>\n",
      "            Type the characters you see in this image:\n",
      "           </h4>\n",
      "           <!-- For automated access to price change or offer listing change events,\n",
      "                                             please refer to the MWS Subscription API:\n",
      "                                             https://developer.amazonservices.in/gp/mws/api.html/276-5247872-0590350?ie=UTF8&section=subscriptions&group=subscriptions&version=latest\n",
      "                                        -->\n",
      "           <div class=\"a-row a-text-center\">\n",
      "            <img src=\"https://images-na.ssl-images-amazon.com/captcha/cucusdhr/Captcha_paiixrktuy.jpg\"/>\n",
      "           </div>\n",
      "           <div class=\"a-row a-spacing-base\">\n",
      "            <div class=\"a-row\">\n",
      "             <div class=\"a-column a-span6\">\n",
      "             </div>\n",
      "             <div class=\"a-column a-span6 a-span-last a-text-right\">\n",
      "              <a onclick=\"window.location.reload()\">\n",
      "               Try different image\n",
      "              </a>\n",
      "             </div>\n",
      "            </div>\n",
      "            <input autocapitalize=\"off\" autocomplete=\"off\" autocorrect=\"off\" class=\"a-span12\" id=\"captchacharacters\" name=\"field-keywords\" placeholder=\"Type characters\" spellcheck=\"false\" type=\"text\"/>\n",
      "           </div>\n",
      "          </div>\n",
      "         </div>\n",
      "        </div>\n",
      "        <div class=\"a-section a-spacing-extra-large\">\n",
      "         <div class=\"a-row\">\n",
      "          <span class=\"a-button a-button-primary a-span12\">\n",
      "           <span class=\"a-button-inner\">\n",
      "            <button class=\"a-button-text\" type=\"submit\">\n",
      "             Continue shopping\n",
      "            </button>\n",
      "           </span>\n",
      "          </span>\n",
      "         </div>\n",
      "        </div>\n",
      "       </form>\n",
      "      </div>\n",
      "     </div>\n",
      "    </div>\n",
      "   </div>\n",
      "   <div class=\"a-divider a-divider-section\">\n",
      "    <div class=\"a-divider-inner\">\n",
      "    </div>\n",
      "   </div>\n",
      "   <div class=\"a-text-center a-spacing-small a-size-mini\">\n",
      "    <a href=\"https://www.amazon.in/gp/help/customer/display.html/ref=footer_cou?ie=UTF8&amp;nodeId=200545940\">\n",
      "     Conditions of Use &amp; Sale\n",
      "    </a>\n",
      "    <span class=\"a-letter-space\">\n",
      "    </span>\n",
      "    <span class=\"a-letter-space\">\n",
      "    </span>\n",
      "    <span class=\"a-letter-space\">\n",
      "    </span>\n",
      "    <span class=\"a-letter-space\">\n",
      "    </span>\n",
      "    <a href=\"https://www.amazon.in/gp/help/customer/display.html/ref=footer_privacy?ie=UTF8&amp;nodeId=200534380\">\n",
      "     Privacy Notice\n",
      "    </a>\n",
      "   </div>\n",
      "   <div class=\"a-text-center a-size-mini a-color-secondary\">\n",
      "    © 1996-2015, Amazon.com, Inc. or its affiliates\n",
      "    <script>\n",
      "     if (true === true) {\n",
      "             document.write('<img src=\"https://fls-eu.amaz'+'on.in/'+'1/oc-csi/1/OP/requestId=9ZH74XQRZ2YBE5EAWT31&js=1\" />');\n",
      "           };\n",
      "    </script>\n",
      "    <noscript>\n",
      "     <img src=\"https://fls-eu.amazon.in/1/oc-csi/1/OP/requestId=9ZH74XQRZ2YBE5EAWT31&amp;js=0\">\n",
      "     </img>\n",
      "    </noscript>\n",
      "   </div>\n",
      "  </div>\n",
      "  <script>\n",
      "   if (true === true) {\n",
      "        var head = document.getElementsByTagName('head')[0],\n",
      "            prefix = \"https://images-eu.ssl-images-amazon.com/images/G/01/csminstrumentation/\",\n",
      "            elem = document.createElement(\"script\");\n",
      "        elem.src = prefix + \"csm-captcha-instrumentation.min.js\";\n",
      "        head.appendChild(elem);\n",
      "\n",
      "        elem = document.createElement(\"script\");\n",
      "        elem.src = prefix + \"rd-script-6d68177fa6061598e9509dc4b5bdd08d.js\";\n",
      "        head.appendChild(elem);\n",
      "    }\n",
      "  </script>\n",
      " </body>\n",
      "</html>\n",
      "\n"
     ]
    }
   ],
   "source": [
    "import requests\n",
    "from bs4 import BeautifulSoup\n",
    "\n",
    "url = 'https://www.amazon.in/Ultra-Wireless-smartwatch-Bluetooth-Monitoring/dp/B0BR5PPB9R/ref=pd_rhf_d_dp_s_pop_multi_srecs_sabr_cn_sccl_1_4/258-0162543-5168940?pd_rd_w=qBjwN&content-id=amzn1.sym.c7348e78-1eb9-4979-badd-8730a8d65185&pf_rd_p=c7348e78-1eb9-4979-badd-8730a8d65185&pf_rd_r=HSS7GADF5J77RA8K3SYZ&pd_rd_wg=Mi5PE&pd_rd_r=a608e3a7-9eed-4bbc-8bd4-dcf36a6ede22&pd_rd_i=B0BR5PPB9R&psc=1'\n",
    "response = requests.get(url)\n",
    "\n",
    "soup = BeautifulSoup(response.text, \"html.parser\")\n",
    "\n",
    "reviews_div = soup.find_all(\"div\", {'data-hook' : \"review\"})\n",
    "\n",
    "\n",
    "# for review in reviews:\n",
    "#     print(review.get_text().strip())\n",
    "\n",
    "print(soup.title.text)\n",
    "print(soup.prettify())"
   ]
  },
  {
   "cell_type": "code",
   "execution_count": 62,
   "id": "594c5d09-2e77-471e-9ba8-1ca10c0e7aaf",
   "metadata": {},
   "outputs": [
    {
     "data": {
      "text/plain": [
       "[]"
      ]
     },
     "execution_count": 62,
     "metadata": {},
     "output_type": "execute_result"
    }
   ],
   "source": [
    "price = soup.find_all('span' ,class_ = 'reinventPricePriceToPayMargin')\n",
    "\n",
    "price"
   ]
  },
  {
   "cell_type": "code",
   "execution_count": 83,
   "id": "62c7428a-2308-4b20-a090-74f95bbe4b1b",
   "metadata": {},
   "outputs": [
    {
     "data": {
      "text/plain": [
       "{'class': ['a-container', 'a-padding-double-large'],\n",
       " 'style': 'min-width:350px;padding:44px 0 !important'}"
      ]
     },
     "execution_count": 83,
     "metadata": {},
     "output_type": "execute_result"
    }
   ],
   "source": [
    "import requests\n",
    "from bs4 import BeautifulSoup\n",
    "\n",
    "url = 'https://www.amazon.in/Samsung-Monitor-Bezel-Design-Display/dp/B08BY8S1ND/ref=sr_1_15?crid=23UUYRS5MHN4G&keywords=big+monitor+4k&qid=1682703707&sprefix=big+moni%2Caps%2C353&sr=8-15'\n",
    "\n",
    "response = requests.get(url)\n",
    "\n",
    "soup = BeautifulSoup(response.content , 'html.parser')\n",
    "\n",
    "# print(soup.find_all('span',{'class':'a-button-text'}))\n",
    "soup.div.attrs\n"
   ]
  },
  {
   "cell_type": "code",
   "execution_count": null,
   "id": "89da229f-9c75-46b4-9443-ff474861e95b",
   "metadata": {},
   "outputs": [],
   "source": []
  },
  {
   "cell_type": "code",
   "execution_count": null,
   "id": "11c729cc-2fc1-49f4-953d-f214aad80d99",
   "metadata": {},
   "outputs": [],
   "source": []
  },
  {
   "cell_type": "code",
   "execution_count": null,
   "id": "6c933108-cc04-4680-afd0-337a683db34e",
   "metadata": {},
   "outputs": [],
   "source": []
  },
  {
   "cell_type": "code",
   "execution_count": null,
   "id": "8222f196-882a-41af-8188-09839a5fb8d7",
   "metadata": {},
   "outputs": [],
   "source": []
  },
  {
   "cell_type": "code",
   "execution_count": null,
   "id": "56c610ad-ac62-4173-8fd4-2997cd65e5a4",
   "metadata": {},
   "outputs": [],
   "source": []
  },
  {
   "cell_type": "code",
   "execution_count": null,
   "id": "23125330-f8b5-447c-98db-e1744ba56d69",
   "metadata": {},
   "outputs": [],
   "source": []
  },
  {
   "cell_type": "code",
   "execution_count": null,
   "id": "e89d14ac-8cbe-47cb-b1ac-5c19444fe47d",
   "metadata": {},
   "outputs": [],
   "source": []
  },
  {
   "cell_type": "code",
   "execution_count": null,
   "id": "f62046c5-b364-453e-a4f3-84d7f2d6e948",
   "metadata": {},
   "outputs": [],
   "source": []
  },
  {
   "cell_type": "code",
   "execution_count": null,
   "id": "dbe8c993-c3b8-4b38-b9c3-97accedc7fac",
   "metadata": {},
   "outputs": [],
   "source": []
  },
  {
   "cell_type": "code",
   "execution_count": null,
   "id": "15b105c7-a657-4ac2-b426-3fccd807dd51",
   "metadata": {},
   "outputs": [],
   "source": []
  },
  {
   "cell_type": "code",
   "execution_count": null,
   "id": "ac64fde6-d04c-4b54-8e0b-04414f1ee251",
   "metadata": {},
   "outputs": [],
   "source": []
  }
 ],
 "metadata": {
  "kernelspec": {
   "display_name": "Python 3 (ipykernel)",
   "language": "python",
   "name": "python3"
  },
  "language_info": {
   "codemirror_mode": {
    "name": "ipython",
    "version": 3
   },
   "file_extension": ".py",
   "mimetype": "text/x-python",
   "name": "python",
   "nbconvert_exporter": "python",
   "pygments_lexer": "ipython3",
   "version": "3.9.13"
  },
  "widgets": {
   "application/vnd.jupyter.widget-state+json": {
    "state": {},
    "version_major": 2,
    "version_minor": 0
   }
  }
 },
 "nbformat": 4,
 "nbformat_minor": 5
}
